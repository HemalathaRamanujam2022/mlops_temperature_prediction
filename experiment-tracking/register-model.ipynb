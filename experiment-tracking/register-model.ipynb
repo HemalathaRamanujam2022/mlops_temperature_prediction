{
 "cells": [
  {
   "cell_type": "code",
   "execution_count": 1,
   "id": "85bf312a-96a1-4419-953c-1914acf9181c",
   "metadata": {},
   "outputs": [],
   "source": [
    "import mlflow"
   ]
  },
  {
   "cell_type": "code",
   "execution_count": 5,
   "id": "9f99b95c-cbec-42a0-8421-d54838796fc5",
   "metadata": {},
   "outputs": [],
   "source": [
    "from mlflow.tracking import MlflowClient\n",
    "from mlflow.entities import ViewType\n",
    "MLFLOW_TRACKING_URI = \"sqlite:///mlflow.db\""
   ]
  },
  {
   "cell_type": "code",
   "execution_count": 7,
   "id": "0920367a-1ce1-48fe-acd2-6bcc82814e4c",
   "metadata": {},
   "outputs": [
    {
     "data": {
      "text/plain": [
       "[<Experiment: artifact_location='/home/ubuntu/mlops_temperature_prediction/experiment-tracking/mlruns/5', creation_time=1723148162406, experiment_id='5', last_update_time=1723148162406, lifecycle_stage='active', name='best-model', tags={}>,\n",
       " <Experiment: artifact_location='/home/ubuntu/mlops_temperature_prediction/experiment-tracking/mlruns/2', creation_time=1723144855817, experiment_id='2', last_update_time=1723144855817, lifecycle_stage='active', name='lgbm-best-model', tags={}>,\n",
       " <Experiment: artifact_location='/home/ubuntu/mlops_temperature_prediction/experiment-tracking/mlruns/1', creation_time=1723144092599, experiment_id='1', last_update_time=1723144092599, lifecycle_stage='active', name='compare-models', tags={}>,\n",
       " <Experiment: artifact_location='mlflow-artifacts:/0', creation_time=1723143646452, experiment_id='0', last_update_time=1723143646452, lifecycle_stage='active', name='Default', tags={}>]"
      ]
     },
     "execution_count": 7,
     "metadata": {},
     "output_type": "execute_result"
    }
   ],
   "source": [
    "client = MlflowClient(tracking_uri=MLFLOW_TRACKING_URI)\n",
    "\n",
    "client.search_experiments()"
   ]
  },
  {
   "cell_type": "code",
   "execution_count": 22,
   "id": "2d2f12fa-88ec-442c-a593-396c094ff5f8",
   "metadata": {},
   "outputs": [],
   "source": [
    "runs = client.search_runs(\n",
    "    experiment_ids='2',\n",
    "    filter_string=\"metrics.rmse_lgbm  < 0.885\",\n",
    "    run_view_type=ViewType.ACTIVE_ONLY,\n",
    "    max_results=5,\n",
    "    order_by=[\"metrics.rmse_lgbm ASC\"]\n",
    ")"
   ]
  },
  {
   "cell_type": "code",
   "execution_count": 24,
   "id": "c06225ae-cab4-46d2-8b5f-413ab1fb87a0",
   "metadata": {},
   "outputs": [
    {
     "data": {
      "text/plain": [
       "<Run: data=<RunData: metrics={'rmse_lgbm': 0.8806487710167833}, params={'model': 'lgbm',\n",
       " 'test-data-path': '../data/london_weather.csv',\n",
       " 'train-data-path': '../data/london_weather.csv'}, tags={'developer': 'hema',\n",
       " 'mlflow.runName': 'capricious-roo-899',\n",
       " 'mlflow.source.name': '/home/ubuntu/.local/share/virtualenvs/mlops_temperature_prediction-M3ZLPW1f/lib/python3.9/site-packages/ipykernel_launcher.py',\n",
       " 'mlflow.source.type': 'LOCAL',\n",
       " 'mlflow.user': 'ubuntu'}>, info=<RunInfo: artifact_uri='/home/ubuntu/mlops_temperature_prediction/experiment-tracking/mlruns/2/4b25ddb157ec403cad3cfb6bc2b6e3e4/artifacts', end_time=1723150622180, experiment_id='2', lifecycle_stage='active', run_id='4b25ddb157ec403cad3cfb6bc2b6e3e4', run_name='capricious-roo-899', run_uuid='4b25ddb157ec403cad3cfb6bc2b6e3e4', start_time=1723150620293, status='FINISHED', user_id='ubuntu'>, inputs=<RunInputs: dataset_inputs=[]>>"
      ]
     },
     "execution_count": 24,
     "metadata": {},
     "output_type": "execute_result"
    }
   ],
   "source": [
    "runs[0]"
   ]
  },
  {
   "cell_type": "code",
   "execution_count": 26,
   "id": "4860b989-3d79-4d95-92fc-232e3e0ea52e",
   "metadata": {},
   "outputs": [
    {
     "name": "stdout",
     "output_type": "stream",
     "text": [
      "run id: 4b25ddb157ec403cad3cfb6bc2b6e3e4, rmse: 0.8806\n",
      "run id: facdad167b9e4ac6b7c4956f54244f3b, rmse: 0.8811\n",
      "run id: 3624c85848dc4064ab91c77e0421c744, rmse: 0.8820\n",
      "run id: 5cd80a90c56e40079cf29daeccaa59ba, rmse: 0.8820\n",
      "run id: 4b7b9a06e67c4843bd336526d442f9a4, rmse: 0.8823\n"
     ]
    }
   ],
   "source": [
    "for run in runs:\n",
    "    print(f\"run id: {run.info.run_id}, rmse: {run.data.metrics['rmse_lgbm']:.4f}\")"
   ]
  },
  {
   "cell_type": "code",
   "execution_count": 39,
   "id": "27519cba-37bc-4a9c-9324-4918f8e7fff2",
   "metadata": {},
   "outputs": [],
   "source": [
    "runs = client.search_runs( \n",
    "    experiment_ids='6',\n",
    "    filter_string=\"metrics.rmse_lgbm  < 0.885\",\n",
    "    run_view_type=ViewType.ACTIVE_ONLY,\n",
    "    max_results=5,\n",
    "    order_by=[\"metrics.rmse_lgbm ASC\"]\n",
    ")"
   ]
  },
  {
   "cell_type": "code",
   "execution_count": 40,
   "id": "4338ab71-8269-47ec-bc9d-308988b570d6",
   "metadata": {},
   "outputs": [
    {
     "data": {
      "text/plain": [
       "<Run: data=<RunData: metrics={'rmse_lgbm': 0.8806487710167833}, params={'model': 'lgbm',\n",
       " 'test-data-path': '../data/london_weather.csv',\n",
       " 'train-data-path': '../data/london_weather.csv'}, tags={'developer': 'hema',\n",
       " 'mlflow.log-model.history': '[{\"run_id\": \"8008366d93cc4bdfbcd135dc1d6e50ff\", '\n",
       "                             '\"artifact_path\": \"lgbm_reg\", \"utc_time_created\": '\n",
       "                             '\"2024-08-09 05:30:57.662417\", \"flavors\": '\n",
       "                             '{\"python_function\": {\"model_path\": \"model.pkl\", '\n",
       "                             '\"predict_fn\": \"predict\", \"loader_module\": '\n",
       "                             '\"mlflow.sklearn\", \"python_version\": \"3.9.19\", '\n",
       "                             '\"env\": {\"conda\": \"conda.yaml\", \"virtualenv\": '\n",
       "                             '\"python_env.yaml\"}}, \"sklearn\": '\n",
       "                             '{\"pickled_model\": \"model.pkl\", '\n",
       "                             '\"sklearn_version\": \"1.0.2\", '\n",
       "                             '\"serialization_format\": \"cloudpickle\", \"code\": '\n",
       "                             'null}}, \"model_uuid\": '\n",
       "                             '\"b74c834ff3d14c9eadbdcd60c3a4a445\", '\n",
       "                             '\"mlflow_version\": \"2.15.1\", \"model_size_bytes\": '\n",
       "                             '466064}]',\n",
       " 'mlflow.runName': 'funny-ram-264',\n",
       " 'mlflow.source.name': '/home/ubuntu/.local/share/virtualenvs/mlops_temperature_prediction-M3ZLPW1f/lib/python3.9/site-packages/ipykernel_launcher.py',\n",
       " 'mlflow.source.type': 'LOCAL',\n",
       " 'mlflow.user': 'ubuntu'}>, info=<RunInfo: artifact_uri='/home/ubuntu/mlops_temperature_prediction/experiment-tracking/mlruns/6/8008366d93cc4bdfbcd135dc1d6e50ff/artifacts', end_time=1723181461881, experiment_id='6', lifecycle_stage='active', run_id='8008366d93cc4bdfbcd135dc1d6e50ff', run_name='funny-ram-264', run_uuid='8008366d93cc4bdfbcd135dc1d6e50ff', start_time=1723181455920, status='FINISHED', user_id='ubuntu'>, inputs=<RunInputs: dataset_inputs=[]>>"
      ]
     },
     "execution_count": 40,
     "metadata": {},
     "output_type": "execute_result"
    }
   ],
   "source": [
    "runs[0]"
   ]
  },
  {
   "cell_type": "code",
   "execution_count": 43,
   "id": "43c8a662-8221-45c3-8d0f-728f1960eba0",
   "metadata": {},
   "outputs": [
    {
     "name": "stdout",
     "output_type": "stream",
     "text": [
      "run id: 8008366d93cc4bdfbcd135dc1d6e50ff, rmse: 0.8806\n"
     ]
    }
   ],
   "source": [
    "for run in runs:\n",
    "    print(f\"run id: {run.info.run_id}, rmse: {run.data.metrics['rmse_lgbm']:.4f}\")"
   ]
  },
  {
   "cell_type": "code",
   "execution_count": 45,
   "id": "4329e8a3-0eb4-41eb-9649-9c296bb1549c",
   "metadata": {},
   "outputs": [],
   "source": [
    "mlflow.set_tracking_uri(\"sqlite:///mlflow.db\")"
   ]
  },
  {
   "cell_type": "code",
   "execution_count": 46,
   "id": "2c43d6ff-3fd6-4140-8106-b546529f521d",
   "metadata": {},
   "outputs": [
    {
     "name": "stderr",
     "output_type": "stream",
     "text": [
      "Registered model 'london-temperature-lgbm-regressor' already exists. Creating a new version of this model...\n",
      "Created version '1' of model 'london-temperature-lgbm-regressor'.\n"
     ]
    },
    {
     "data": {
      "text/plain": [
       "<ModelVersion: aliases=[], creation_timestamp=1723182544091, current_stage='None', description=None, last_updated_timestamp=1723182544091, name='london-temperature-lgbm-regressor', run_id='8008366d93cc4bdfbcd135dc1d6e50ff', run_link=None, source='/home/ubuntu/mlops_temperature_prediction/experiment-tracking/mlruns/6/8008366d93cc4bdfbcd135dc1d6e50ff/artifacts/model', status='READY', status_message=None, tags={}, user_id=None, version=1>"
      ]
     },
     "execution_count": 46,
     "metadata": {},
     "output_type": "execute_result"
    }
   ],
   "source": [
    "run_id = \"8008366d93cc4bdfbcd135dc1d6e50ff\"\n",
    "model_uri = f\"runs:/{run_id}/model\"\n",
    "mlflow.register_model(model_uri=model_uri, name=\"london-temperature-lgbm-regressor\")"
   ]
  },
  {
   "cell_type": "code",
   "execution_count": 47,
   "id": "50ca17e2-1211-49f5-822d-e184fe82970d",
   "metadata": {},
   "outputs": [
    {
     "name": "stdout",
     "output_type": "stream",
     "text": [
      "version: 1, stage: None\n"
     ]
    }
   ],
   "source": [
    "model_name = \"london-temperature-lgbm-regressor\"\n",
    "latest_versions = client.get_latest_versions(name=model_name)\n",
    "\n",
    "for version in latest_versions:\n",
    "    print(f\"version: {version.version}, stage: {version.current_stage}\")"
   ]
  },
  {
   "cell_type": "code",
   "execution_count": 48,
   "id": "91651f6a-62d6-458d-aa5e-b1fdb0e823fe",
   "metadata": {},
   "outputs": [
    {
     "data": {
      "text/plain": [
       "<ModelVersion: aliases=[], creation_timestamp=1723182544091, current_stage='Staging', description=None, last_updated_timestamp=1723182889548, name='london-temperature-lgbm-regressor', run_id='8008366d93cc4bdfbcd135dc1d6e50ff', run_link=None, source='/home/ubuntu/mlops_temperature_prediction/experiment-tracking/mlruns/6/8008366d93cc4bdfbcd135dc1d6e50ff/artifacts/model', status='READY', status_message=None, tags={}, user_id=None, version=1>"
      ]
     },
     "execution_count": 48,
     "metadata": {},
     "output_type": "execute_result"
    }
   ],
   "source": [
    "model_version = 1\n",
    "new_stage = \"Staging\"\n",
    "client.transition_model_version_stage(\n",
    "    name=model_name,\n",
    "    version=model_version,\n",
    "    stage=new_stage,\n",
    "    archive_existing_versions=False\n",
    ")"
   ]
  },
  {
   "cell_type": "code",
   "execution_count": 49,
   "id": "d43449bf-2fe3-48a2-8e02-28eefbe15966",
   "metadata": {},
   "outputs": [
    {
     "data": {
      "text/plain": [
       "<ModelVersion: aliases=[], creation_timestamp=1723182544091, current_stage='Staging', description='The model version 1 was transitioned to Staging on 2024-08-09', last_updated_timestamp=1723182982940, name='london-temperature-lgbm-regressor', run_id='8008366d93cc4bdfbcd135dc1d6e50ff', run_link=None, source='/home/ubuntu/mlops_temperature_prediction/experiment-tracking/mlruns/6/8008366d93cc4bdfbcd135dc1d6e50ff/artifacts/model', status='READY', status_message=None, tags={}, user_id=None, version=1>"
      ]
     },
     "execution_count": 49,
     "metadata": {},
     "output_type": "execute_result"
    }
   ],
   "source": [
    "from datetime import datetime\n",
    "\n",
    "date = datetime.today().date()\n",
    "client.update_model_version(\n",
    "    name=model_name,\n",
    "    version=model_version,\n",
    "    description=f\"The model version {model_version} was transitioned to {new_stage} on {date}\"\n",
    ")"
   ]
  },
  {
   "cell_type": "code",
   "execution_count": null,
   "id": "fa7a9a00-75ac-4ef2-a0de-acf5a678a14b",
   "metadata": {},
   "outputs": [],
   "source": [
    "## TO BE DONE. RUN THE MODEL ON NEW DATA"
   ]
  }
 ],
 "metadata": {
  "kernelspec": {
   "display_name": "Python 3 (ipykernel)",
   "language": "python",
   "name": "python3"
  },
  "language_info": {
   "codemirror_mode": {
    "name": "ipython",
    "version": 3
   },
   "file_extension": ".py",
   "mimetype": "text/x-python",
   "name": "python",
   "nbconvert_exporter": "python",
   "pygments_lexer": "ipython3",
   "version": "3.9.19"
  }
 },
 "nbformat": 4,
 "nbformat_minor": 5
}
