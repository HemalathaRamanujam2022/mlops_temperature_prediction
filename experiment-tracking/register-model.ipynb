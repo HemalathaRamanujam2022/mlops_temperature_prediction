{
 "cells": [
  {
   "cell_type": "code",
   "execution_count": 30,
   "id": "85bf312a-96a1-4419-953c-1914acf9181c",
   "metadata": {},
   "outputs": [],
   "source": [
    "import mlflow"
   ]
  },
  {
   "cell_type": "code",
   "execution_count": 38,
   "id": "9f99b95c-cbec-42a0-8421-d54838796fc5",
   "metadata": {},
   "outputs": [],
   "source": [
    "from mlflow.tracking import MlflowClient\n",
    "from mlflow.entities import ViewType\n",
    "MLFLOW_TRACKING_URI = \"sqlite:///mlflow.db\"\n",
    "mlflow.set_tracking_uri(\"sqlite:///mlflow.db\")"
   ]
  },
  {
   "cell_type": "code",
   "execution_count": 39,
   "id": "0920367a-1ce1-48fe-acd2-6bcc82814e4c",
   "metadata": {},
   "outputs": [
    {
     "data": {
      "text/plain": [
       "[<Experiment: artifact_location='/home/ubuntu/mlops_temperature_prediction/experiment-tracking/mlruns/3', creation_time=1723987917104, experiment_id='3', last_update_time=1723987917104, lifecycle_stage='active', name='log-best-model', tags={}>,\n",
       " <Experiment: artifact_location='/home/ubuntu/mlops_temperature_prediction/experiment-tracking/mlruns/2', creation_time=1723987460942, experiment_id='2', last_update_time=1723987460942, lifecycle_stage='active', name='lgbm-best-model', tags={}>,\n",
       " <Experiment: artifact_location='/home/ubuntu/mlops_temperature_prediction/experiment-tracking/mlruns/1', creation_time=1723986821985, experiment_id='1', last_update_time=1723986821985, lifecycle_stage='active', name='compare-models', tags={}>,\n",
       " <Experiment: artifact_location='/home/ubuntu/mlops_temperature_prediction/experiment-tracking/mlruns/0', creation_time=1723986821840, experiment_id='0', last_update_time=1723986821840, lifecycle_stage='active', name='Default', tags={}>]"
      ]
     },
     "execution_count": 39,
     "metadata": {},
     "output_type": "execute_result"
    }
   ],
   "source": [
    "client = MlflowClient(tracking_uri=MLFLOW_TRACKING_URI)\n",
    "\n",
    "client.search_experiments()"
   ]
  },
  {
   "cell_type": "code",
   "execution_count": 40,
   "id": "2d2f12fa-88ec-442c-a593-396c094ff5f8",
   "metadata": {},
   "outputs": [],
   "source": [
    "runs = client.search_runs(\n",
    "    experiment_ids='3',\n",
    "    filter_string=\"metrics.rmse_lgbm  < 0.885\",\n",
    "    run_view_type=ViewType.ACTIVE_ONLY,\n",
    "    max_results=5,\n",
    "    order_by=[\"metrics.rmse_lgbm ASC\"]\n",
    ")"
   ]
  },
  {
   "cell_type": "code",
   "execution_count": 41,
   "id": "c06225ae-cab4-46d2-8b5f-413ab1fb87a0",
   "metadata": {},
   "outputs": [
    {
     "data": {
      "text/plain": [
       "<Run: data=<RunData: metrics={'rmse_lgbm': 0.8812156810825201}, params={'model': 'lgbm',\n",
       " 'test-data-path': '../data/london_weather.csv',\n",
       " 'train-data-path': '../data/london_weather.csv'}, tags={'developer': 'hema',\n",
       " 'mlflow.log-model.history': '[{\"run_id\": \"4321b0600e9043959229d555b3b69099\", '\n",
       "                             '\"artifact_path\": \"lgbm_reg\", \"utc_time_created\": '\n",
       "                             '\"2024-08-18 13:31:59.444725\", \"flavors\": '\n",
       "                             '{\"python_function\": {\"model_path\": \"model.pkl\", '\n",
       "                             '\"predict_fn\": \"predict\", \"loader_module\": '\n",
       "                             '\"mlflow.sklearn\", \"python_version\": \"3.9.19\", '\n",
       "                             '\"env\": {\"conda\": \"conda.yaml\", \"virtualenv\": '\n",
       "                             '\"python_env.yaml\"}}, \"sklearn\": '\n",
       "                             '{\"pickled_model\": \"model.pkl\", '\n",
       "                             '\"sklearn_version\": \"1.0.2\", '\n",
       "                             '\"serialization_format\": \"cloudpickle\", \"code\": '\n",
       "                             'null}}, \"model_uuid\": '\n",
       "                             '\"145da6a596fe43a4b84dc6f16a6399e8\", '\n",
       "                             '\"mlflow_version\": \"2.15.1\", \"model_size_bytes\": '\n",
       "                             '515840}]',\n",
       " 'mlflow.runName': 'powerful-cod-934',\n",
       " 'mlflow.source.name': '/home/ubuntu/.local/share/virtualenvs/mlops_temperature_prediction-M3ZLPW1f/lib/python3.9/site-packages/ipykernel_launcher.py',\n",
       " 'mlflow.source.type': 'LOCAL',\n",
       " 'mlflow.user': 'ubuntu'}>, info=<RunInfo: artifact_uri='/home/ubuntu/mlops_temperature_prediction/experiment-tracking/mlruns/3/4321b0600e9043959229d555b3b69099/artifacts', end_time=1723987934956, experiment_id='3', lifecycle_stage='active', run_id='4321b0600e9043959229d555b3b69099', run_name='powerful-cod-934', run_uuid='4321b0600e9043959229d555b3b69099', start_time=1723987917475, status='FINISHED', user_id='ubuntu'>, inputs=<RunInputs: dataset_inputs=[]>>"
      ]
     },
     "execution_count": 41,
     "metadata": {},
     "output_type": "execute_result"
    }
   ],
   "source": [
    "runs[0]"
   ]
  },
  {
   "cell_type": "code",
   "execution_count": 42,
   "id": "4860b989-3d79-4d95-92fc-232e3e0ea52e",
   "metadata": {},
   "outputs": [
    {
     "name": "stdout",
     "output_type": "stream",
     "text": [
      "run id: 4321b0600e9043959229d555b3b69099, rmse: 0.8812\n"
     ]
    }
   ],
   "source": [
    "for run in runs:\n",
    "    print(f\"run id: {run.info.run_id}, rmse: {run.data.metrics['rmse_lgbm']:.4f}\")"
   ]
  },
  {
   "cell_type": "code",
   "execution_count": 43,
   "id": "5c11d9d4-e665-429d-855a-05b0b463baa4",
   "metadata": {},
   "outputs": [
    {
     "data": {
      "text/plain": [
       "<Run: data=<RunData: metrics={'rmse_lgbm': 0.8812156810825201}, params={'model': 'lgbm',\n",
       " 'test-data-path': '../data/london_weather.csv',\n",
       " 'train-data-path': '../data/london_weather.csv'}, tags={'developer': 'hema',\n",
       " 'mlflow.log-model.history': '[{\"run_id\": \"4321b0600e9043959229d555b3b69099\", '\n",
       "                             '\"artifact_path\": \"lgbm_reg\", \"utc_time_created\": '\n",
       "                             '\"2024-08-18 13:31:59.444725\", \"flavors\": '\n",
       "                             '{\"python_function\": {\"model_path\": \"model.pkl\", '\n",
       "                             '\"predict_fn\": \"predict\", \"loader_module\": '\n",
       "                             '\"mlflow.sklearn\", \"python_version\": \"3.9.19\", '\n",
       "                             '\"env\": {\"conda\": \"conda.yaml\", \"virtualenv\": '\n",
       "                             '\"python_env.yaml\"}}, \"sklearn\": '\n",
       "                             '{\"pickled_model\": \"model.pkl\", '\n",
       "                             '\"sklearn_version\": \"1.0.2\", '\n",
       "                             '\"serialization_format\": \"cloudpickle\", \"code\": '\n",
       "                             'null}}, \"model_uuid\": '\n",
       "                             '\"145da6a596fe43a4b84dc6f16a6399e8\", '\n",
       "                             '\"mlflow_version\": \"2.15.1\", \"model_size_bytes\": '\n",
       "                             '515840}]',\n",
       " 'mlflow.runName': 'powerful-cod-934',\n",
       " 'mlflow.source.name': '/home/ubuntu/.local/share/virtualenvs/mlops_temperature_prediction-M3ZLPW1f/lib/python3.9/site-packages/ipykernel_launcher.py',\n",
       " 'mlflow.source.type': 'LOCAL',\n",
       " 'mlflow.user': 'ubuntu'}>, info=<RunInfo: artifact_uri='/home/ubuntu/mlops_temperature_prediction/experiment-tracking/mlruns/3/4321b0600e9043959229d555b3b69099/artifacts', end_time=1723987934956, experiment_id='3', lifecycle_stage='active', run_id='4321b0600e9043959229d555b3b69099', run_name='powerful-cod-934', run_uuid='4321b0600e9043959229d555b3b69099', start_time=1723987917475, status='FINISHED', user_id='ubuntu'>, inputs=<RunInputs: dataset_inputs=[]>>"
      ]
     },
     "execution_count": 43,
     "metadata": {},
     "output_type": "execute_result"
    }
   ],
   "source": [
    "client.get_run('4321b0600e9043959229d555b3b69099')"
   ]
  },
  {
   "cell_type": "code",
   "execution_count": 44,
   "id": "2c43d6ff-3fd6-4140-8106-b546529f521d",
   "metadata": {},
   "outputs": [
    {
     "name": "stderr",
     "output_type": "stream",
     "text": [
      "Successfully registered model 'london-temperature-lgbm-regressor'.\n",
      "Created version '1' of model 'london-temperature-lgbm-regressor'.\n"
     ]
    },
    {
     "data": {
      "text/plain": [
       "<ModelVersion: aliases=[], creation_timestamp=1723990931547, current_stage='None', description=None, last_updated_timestamp=1723990931547, name='london-temperature-lgbm-regressor', run_id='4321b0600e9043959229d555b3b69099', run_link=None, source='/home/ubuntu/mlops_temperature_prediction/experiment-tracking/mlruns/3/4321b0600e9043959229d555b3b69099/artifacts/model', status='READY', status_message=None, tags={}, user_id=None, version=1>"
      ]
     },
     "execution_count": 44,
     "metadata": {},
     "output_type": "execute_result"
    }
   ],
   "source": [
    "run_id = \"4321b0600e9043959229d555b3b69099\"\n",
    "model_uri = f\"runs:/{run_id}/model\"\n",
    "mlflow.register_model(model_uri=model_uri, name=\"london-temperature-lgbm-regressor\")"
   ]
  },
  {
   "cell_type": "code",
   "execution_count": 45,
   "id": "50ca17e2-1211-49f5-822d-e184fe82970d",
   "metadata": {},
   "outputs": [
    {
     "name": "stdout",
     "output_type": "stream",
     "text": [
      "version: 1, stage: None\n"
     ]
    }
   ],
   "source": [
    "model_name = \"london-temperature-lgbm-regressor\"\n",
    "latest_versions = client.get_latest_versions(name=model_name)\n",
    "\n",
    "for version in latest_versions:\n",
    "    print(f\"version: {version.version}, stage: {version.current_stage}\")"
   ]
  },
  {
   "cell_type": "code",
   "execution_count": 46,
   "id": "91651f6a-62d6-458d-aa5e-b1fdb0e823fe",
   "metadata": {},
   "outputs": [
    {
     "data": {
      "text/plain": [
       "<ModelVersion: aliases=[], creation_timestamp=1723990931547, current_stage='Staging', description=None, last_updated_timestamp=1723990945411, name='london-temperature-lgbm-regressor', run_id='4321b0600e9043959229d555b3b69099', run_link=None, source='/home/ubuntu/mlops_temperature_prediction/experiment-tracking/mlruns/3/4321b0600e9043959229d555b3b69099/artifacts/model', status='READY', status_message=None, tags={}, user_id=None, version=1>"
      ]
     },
     "execution_count": 46,
     "metadata": {},
     "output_type": "execute_result"
    }
   ],
   "source": [
    "model_version = 1\n",
    "new_stage = \"Staging\"\n",
    "client.transition_model_version_stage(\n",
    "    name=model_name,\n",
    "    version=model_version,\n",
    "    stage=new_stage,\n",
    "    archive_existing_versions=False\n",
    ")"
   ]
  },
  {
   "cell_type": "code",
   "execution_count": 47,
   "id": "d43449bf-2fe3-48a2-8e02-28eefbe15966",
   "metadata": {},
   "outputs": [
    {
     "data": {
      "text/plain": [
       "<ModelVersion: aliases=[], creation_timestamp=1723990931547, current_stage='Staging', description='The model version 1 was transitioned to Staging on 2024-08-18', last_updated_timestamp=1723990949800, name='london-temperature-lgbm-regressor', run_id='4321b0600e9043959229d555b3b69099', run_link=None, source='/home/ubuntu/mlops_temperature_prediction/experiment-tracking/mlruns/3/4321b0600e9043959229d555b3b69099/artifacts/model', status='READY', status_message=None, tags={}, user_id=None, version=1>"
      ]
     },
     "execution_count": 47,
     "metadata": {},
     "output_type": "execute_result"
    }
   ],
   "source": [
    "from datetime import datetime\n",
    "\n",
    "date = datetime.today().date()\n",
    "client.update_model_version(\n",
    "    name=model_name,\n",
    "    version=model_version,\n",
    "    description=f\"The model version {model_version} was transitioned to {new_stage} on {date}\"\n",
    ")"
   ]
  }
 ],
 "metadata": {
  "kernelspec": {
   "display_name": "Python 3 (ipykernel)",
   "language": "python",
   "name": "python3"
  },
  "language_info": {
   "codemirror_mode": {
    "name": "ipython",
    "version": 3
   },
   "file_extension": ".py",
   "mimetype": "text/x-python",
   "name": "python",
   "nbconvert_exporter": "python",
   "pygments_lexer": "ipython3",
   "version": "3.9.19"
  }
 },
 "nbformat": 4,
 "nbformat_minor": 5
}
