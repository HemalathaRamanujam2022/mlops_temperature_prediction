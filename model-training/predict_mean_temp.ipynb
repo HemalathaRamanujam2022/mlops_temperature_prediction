{
 "cells": [
  {
   "cell_type": "code",
   "execution_count": 41,
   "id": "c217e644-6065-405c-b9c2-248a45a958a8",
   "metadata": {},
   "outputs": [],
   "source": [
    "import pandas as pd\n",
    "import numpy as np\n",
    "import xgboost\n",
    "import lightgbm"
   ]
  },
  {
   "cell_type": "code",
   "execution_count": 42,
   "id": "718ca0f1-5180-4d28-a141-c27ef561b848",
   "metadata": {},
   "outputs": [],
   "source": [
    "input_file = \"../data/london_weather.csv\"\n",
    "df = pd.read_csv(input_file, parse_dates=True)"
   ]
  },
  {
   "cell_type": "code",
   "execution_count": 43,
   "id": "4ee6b2c6-bfde-45e9-a9cd-fff3464b5a99",
   "metadata": {},
   "outputs": [],
   "source": [
    "df['date'] = pd.to_datetime(df[\"date\"],format='%Y%m%d')\n",
    "df['year'] = df['date'].dt.year\n",
    "df['month'] = df[\"date\"].dt.month.map(\"{:02}\".format)"
   ]
  },
  {
   "cell_type": "code",
   "execution_count": 44,
   "id": "a68e8d3d-d8ab-4ab6-9200-b23dbe3e30f2",
   "metadata": {},
   "outputs": [
    {
     "data": {
      "text/html": [
       "<div>\n",
       "<style scoped>\n",
       "    .dataframe tbody tr th:only-of-type {\n",
       "        vertical-align: middle;\n",
       "    }\n",
       "\n",
       "    .dataframe tbody tr th {\n",
       "        vertical-align: top;\n",
       "    }\n",
       "\n",
       "    .dataframe thead th {\n",
       "        text-align: right;\n",
       "    }\n",
       "</style>\n",
       "<table border=\"1\" class=\"dataframe\">\n",
       "  <thead>\n",
       "    <tr style=\"text-align: right;\">\n",
       "      <th></th>\n",
       "      <th>date</th>\n",
       "      <th>cloud_cover</th>\n",
       "      <th>sunshine</th>\n",
       "      <th>global_radiation</th>\n",
       "      <th>max_temp</th>\n",
       "      <th>mean_temp</th>\n",
       "      <th>min_temp</th>\n",
       "      <th>precipitation</th>\n",
       "      <th>pressure</th>\n",
       "      <th>snow_depth</th>\n",
       "      <th>year</th>\n",
       "      <th>month</th>\n",
       "    </tr>\n",
       "  </thead>\n",
       "  <tbody>\n",
       "    <tr>\n",
       "      <th>0</th>\n",
       "      <td>1979-01-01</td>\n",
       "      <td>2.00</td>\n",
       "      <td>7.00</td>\n",
       "      <td>52.00</td>\n",
       "      <td>2.30</td>\n",
       "      <td>-4.10</td>\n",
       "      <td>-7.50</td>\n",
       "      <td>0.40</td>\n",
       "      <td>101900.00</td>\n",
       "      <td>9.00</td>\n",
       "      <td>1979</td>\n",
       "      <td>01</td>\n",
       "    </tr>\n",
       "    <tr>\n",
       "      <th>1</th>\n",
       "      <td>1979-01-02</td>\n",
       "      <td>6.00</td>\n",
       "      <td>1.70</td>\n",
       "      <td>27.00</td>\n",
       "      <td>1.60</td>\n",
       "      <td>-2.60</td>\n",
       "      <td>-7.50</td>\n",
       "      <td>0.00</td>\n",
       "      <td>102530.00</td>\n",
       "      <td>8.00</td>\n",
       "      <td>1979</td>\n",
       "      <td>01</td>\n",
       "    </tr>\n",
       "    <tr>\n",
       "      <th>2</th>\n",
       "      <td>1979-01-03</td>\n",
       "      <td>5.00</td>\n",
       "      <td>0.00</td>\n",
       "      <td>13.00</td>\n",
       "      <td>1.30</td>\n",
       "      <td>-2.80</td>\n",
       "      <td>-7.20</td>\n",
       "      <td>0.00</td>\n",
       "      <td>102050.00</td>\n",
       "      <td>4.00</td>\n",
       "      <td>1979</td>\n",
       "      <td>01</td>\n",
       "    </tr>\n",
       "    <tr>\n",
       "      <th>3</th>\n",
       "      <td>1979-01-04</td>\n",
       "      <td>8.00</td>\n",
       "      <td>0.00</td>\n",
       "      <td>13.00</td>\n",
       "      <td>-0.30</td>\n",
       "      <td>-2.60</td>\n",
       "      <td>-6.50</td>\n",
       "      <td>0.00</td>\n",
       "      <td>100840.00</td>\n",
       "      <td>2.00</td>\n",
       "      <td>1979</td>\n",
       "      <td>01</td>\n",
       "    </tr>\n",
       "    <tr>\n",
       "      <th>4</th>\n",
       "      <td>1979-01-05</td>\n",
       "      <td>6.00</td>\n",
       "      <td>2.00</td>\n",
       "      <td>29.00</td>\n",
       "      <td>5.60</td>\n",
       "      <td>-0.80</td>\n",
       "      <td>-1.40</td>\n",
       "      <td>0.00</td>\n",
       "      <td>102250.00</td>\n",
       "      <td>1.00</td>\n",
       "      <td>1979</td>\n",
       "      <td>01</td>\n",
       "    </tr>\n",
       "  </tbody>\n",
       "</table>\n",
       "</div>"
      ],
      "text/plain": [
       "        date  cloud_cover  sunshine  global_radiation  max_temp  mean_temp  \\\n",
       "0 1979-01-01         2.00      7.00             52.00      2.30      -4.10   \n",
       "1 1979-01-02         6.00      1.70             27.00      1.60      -2.60   \n",
       "2 1979-01-03         5.00      0.00             13.00      1.30      -2.80   \n",
       "3 1979-01-04         8.00      0.00             13.00     -0.30      -2.60   \n",
       "4 1979-01-05         6.00      2.00             29.00      5.60      -0.80   \n",
       "\n",
       "   min_temp  precipitation  pressure  snow_depth  year month  \n",
       "0     -7.50           0.40 101900.00        9.00  1979    01  \n",
       "1     -7.50           0.00 102530.00        8.00  1979    01  \n",
       "2     -7.20           0.00 102050.00        4.00  1979    01  \n",
       "3     -6.50           0.00 100840.00        2.00  1979    01  \n",
       "4     -1.40           0.00 102250.00        1.00  1979    01  "
      ]
     },
     "execution_count": 44,
     "metadata": {},
     "output_type": "execute_result"
    }
   ],
   "source": [
    "df.head()"
   ]
  },
  {
   "cell_type": "code",
   "execution_count": 5,
   "id": "a2c968f2-41d8-493b-8846-dd318dc42ef6",
   "metadata": {},
   "outputs": [],
   "source": [
    "from sklearn.model_selection import train_test_split\n",
    "from sklearn.metrics import mean_squared_error\n",
    "from sklearn.impute import SimpleImputer\n",
    "from sklearn.preprocessing import StandardScaler\n",
    "from sklearn.metrics import mean_squared_error\n",
    "\n",
    "from sklearn.linear_model import LinearRegression\n",
    "import xgboost as xgb\n",
    "from sklearn.linear_model import Lasso"
   ]
  },
  {
   "cell_type": "code",
   "execution_count": 6,
   "id": "ca033f12-7d88-4495-9062-a403c257fe9e",
   "metadata": {},
   "outputs": [],
   "source": [
    "weather_all_features = df.drop([\"mean_temp\", \"date\"], axis=1).columns.to_list()\n",
    "weather_features = ['month', 'max_temp', 'min_temp', 'global_radiation', 'sunshine', 'cloud_cover', 'snow_depth']\n",
    "# weather_features = ['month', 'cloud_cover', 'sunshine', 'precipitation', 'pressure', 'global_radiation']\n",
    "weather_target = \"mean_temp\"\n",
    "df_weather = df.copy()\n",
    "df_weather['mean_temp'] = df_weather.fillna(df_weather['mean_temp'].mean())['mean_temp']"
   ]
  },
  {
   "cell_type": "code",
   "execution_count": 7,
   "id": "be7133a1-9f90-4683-a8df-accba2371dae",
   "metadata": {},
   "outputs": [
    {
     "name": "stdout",
     "output_type": "stream",
     "text": [
      "  month  max_temp  min_temp  global_radiation  sunshine  cloud_cover  \\\n",
      "0    01       2.3      -7.5              52.0       7.0          2.0   \n",
      "1    01       1.6      -7.5              27.0       1.7          6.0   \n",
      "\n",
      "   snow_depth  \n",
      "0         9.0  \n",
      "1         8.0  \n",
      "<class 'pandas.core.frame.DataFrame'>\n",
      "The selected features are :  Index(['month', 'max_temp', 'min_temp', 'global_radiation', 'sunshine',\n",
      "       'cloud_cover', 'snow_depth'],\n",
      "      dtype='object')\n"
     ]
    }
   ],
   "source": [
    "# Subset feature and target sets\n",
    "# X = df_weather[weather_all_features]    \n",
    "X = df_weather[weather_features]  \n",
    "y = df_weather[weather_target]\n",
    "    \n",
    "# Split the data\n",
    "X_train, X_test, y_train, y_test = train_test_split(X, y, test_size=0.33, random_state=42)\n",
    "print(X[0:2])\n",
    "print(type(X))\n",
    "print(\"The selected features are : \", X_train.columns)\n",
    "feature_index = X_train.columns\n",
    "    \n",
    "# Impute missing values\n",
    "imputer = SimpleImputer(strategy=\"mean\")\n",
    "# Fit on the training data\n",
    "X_train = imputer.fit_transform(X_train)\n",
    "# Transform on the test data\n",
    "X_test  = imputer.transform(X_test)\n",
    "    \n",
    "# Scale the data\n",
    "scaler = StandardScaler()\n",
    "# Fit on the training data\n",
    "X_train = scaler.fit_transform(X_train)\n",
    "# Transform on the test data\n",
    "X_test = scaler.transform(X_test)  "
   ]
  },
  {
   "cell_type": "code",
   "execution_count": 14,
   "id": "23d2b767-9f3c-4373-b709-75d419a59de3",
   "metadata": {},
   "outputs": [
    {
     "name": "stdout",
     "output_type": "stream",
     "text": [
      "The RMSE for linear regression :  0.9185580582720516\n"
     ]
    }
   ],
   "source": [
    "lin_reg = LinearRegression().fit(X_train, y_train)\n",
    "# Evaluate performance\n",
    "y_pred_lin_reg = lin_reg.predict(X_test)\n",
    "lin_reg_rmse = mean_squared_error(y_test, y_pred_lin_reg, squared=False)\n",
    "print(\"The RMSE for linear regression : \", lin_reg_rmse)"
   ]
  },
  {
   "cell_type": "code",
   "execution_count": 15,
   "id": "a9d2a180-d15a-455b-8d5b-f73a0a2eaeca",
   "metadata": {},
   "outputs": [
    {
     "name": "stdout",
     "output_type": "stream",
     "text": [
      "prediction Labels for XGBoost Model: [16.666426 15.220022 12.88803  ... 20.972408  7.422984 16.782743]\n",
      "The RMSE for XGBoost :  0.9237768148252309\n"
     ]
    }
   ],
   "source": [
    "xgb_model = xgb.XGBRegressor(objective ='reg:squarederror', random_state=42)\n",
    "xgb_model.fit(X_train, y_train)\n",
    "pred_labels_xgb = xgb_model.predict(X_test)\n",
    "print('prediction Labels for XGBoost Model:',pred_labels_xgb)\n",
    "xgb_rmse = mean_squared_error(y_test, pred_labels_xgb, squared=False)\n",
    "print(\"The RMSE for XGBoost : \", xgb_rmse)\n"
   ]
  },
  {
   "cell_type": "code",
   "execution_count": 16,
   "id": "18757cb8-44c2-4948-867a-975bd42f7f5c",
   "metadata": {},
   "outputs": [
    {
     "name": "stdout",
     "output_type": "stream",
     "text": [
      "The RMSE for Lasso Regression :  0.9320223525561097\n"
     ]
    }
   ],
   "source": [
    "# Lasso\n",
    "alpha = 0.1\n",
    "lasso_reg = Lasso(alpha, random_state=42)\n",
    "lasso_reg.fit(X_train, y_train)\n",
    "\n",
    "pred_labels_lasso = lasso_reg.predict(X_test)\n",
    "lasso_rmse = mean_squared_error(y_test, pred_labels_lasso, squared=False)\n",
    "print(\"The RMSE for Lasso Regression : \", lasso_rmse)"
   ]
  },
  {
   "cell_type": "code",
   "execution_count": 17,
   "id": "fcd7f2a5-a643-45ae-ac1c-13744ae368aa",
   "metadata": {},
   "outputs": [
    {
     "name": "stdout",
     "output_type": "stream",
     "text": [
      "Requirement already satisfied: lazypredict in /home/ubuntu/.local/share/virtualenvs/mlops_temperature_prediction-M3ZLPW1f/lib/python3.9/site-packages (0.2.12)\n",
      "Requirement already satisfied: click in /home/ubuntu/.local/share/virtualenvs/mlops_temperature_prediction-M3ZLPW1f/lib/python3.9/site-packages (from lazypredict) (8.1.7)\n",
      "Requirement already satisfied: scikit-learn in /home/ubuntu/.local/share/virtualenvs/mlops_temperature_prediction-M3ZLPW1f/lib/python3.9/site-packages (from lazypredict) (1.0.2)\n",
      "Requirement already satisfied: pandas in /home/ubuntu/.local/share/virtualenvs/mlops_temperature_prediction-M3ZLPW1f/lib/python3.9/site-packages (from lazypredict) (2.2.2)\n",
      "Requirement already satisfied: tqdm in /home/ubuntu/.local/share/virtualenvs/mlops_temperature_prediction-M3ZLPW1f/lib/python3.9/site-packages (from lazypredict) (4.66.5)\n",
      "Requirement already satisfied: joblib in /home/ubuntu/.local/share/virtualenvs/mlops_temperature_prediction-M3ZLPW1f/lib/python3.9/site-packages (from lazypredict) (1.4.2)\n",
      "Requirement already satisfied: lightgbm in /home/ubuntu/.local/share/virtualenvs/mlops_temperature_prediction-M3ZLPW1f/lib/python3.9/site-packages (from lazypredict) (4.5.0)\n",
      "Requirement already satisfied: xgboost in /home/ubuntu/.local/share/virtualenvs/mlops_temperature_prediction-M3ZLPW1f/lib/python3.9/site-packages (from lazypredict) (2.1.1)\n",
      "Requirement already satisfied: numpy>=1.17.0 in /home/ubuntu/.local/share/virtualenvs/mlops_temperature_prediction-M3ZLPW1f/lib/python3.9/site-packages (from lightgbm->lazypredict) (1.22.4)\n",
      "Requirement already satisfied: scipy in /home/ubuntu/.local/share/virtualenvs/mlops_temperature_prediction-M3ZLPW1f/lib/python3.9/site-packages (from lightgbm->lazypredict) (1.13.1)\n",
      "Requirement already satisfied: python-dateutil>=2.8.2 in /home/ubuntu/.local/share/virtualenvs/mlops_temperature_prediction-M3ZLPW1f/lib/python3.9/site-packages (from pandas->lazypredict) (2.9.0.post0)\n",
      "Requirement already satisfied: pytz>=2020.1 in /home/ubuntu/.local/share/virtualenvs/mlops_temperature_prediction-M3ZLPW1f/lib/python3.9/site-packages (from pandas->lazypredict) (2024.1)\n",
      "Requirement already satisfied: tzdata>=2022.7 in /home/ubuntu/.local/share/virtualenvs/mlops_temperature_prediction-M3ZLPW1f/lib/python3.9/site-packages (from pandas->lazypredict) (2024.1)\n",
      "Requirement already satisfied: threadpoolctl>=2.0.0 in /home/ubuntu/.local/share/virtualenvs/mlops_temperature_prediction-M3ZLPW1f/lib/python3.9/site-packages (from scikit-learn->lazypredict) (3.5.0)\n",
      "Requirement already satisfied: nvidia-nccl-cu12 in /home/ubuntu/.local/share/virtualenvs/mlops_temperature_prediction-M3ZLPW1f/lib/python3.9/site-packages (from xgboost->lazypredict) (2.22.3)\n",
      "Requirement already satisfied: six>=1.5 in /home/ubuntu/.local/share/virtualenvs/mlops_temperature_prediction-M3ZLPW1f/lib/python3.9/site-packages (from python-dateutil>=2.8.2->pandas->lazypredict) (1.16.0)\n",
      "Requirement already satisfied: lazypredict-nightly in /home/ubuntu/.local/share/virtualenvs/mlops_temperature_prediction-M3ZLPW1f/lib/python3.9/site-packages (0.3.2)\n",
      "Requirement already satisfied: click in /home/ubuntu/.local/share/virtualenvs/mlops_temperature_prediction-M3ZLPW1f/lib/python3.9/site-packages (from lazypredict-nightly) (8.1.7)\n",
      "Requirement already satisfied: scikit-learn in /home/ubuntu/.local/share/virtualenvs/mlops_temperature_prediction-M3ZLPW1f/lib/python3.9/site-packages (from lazypredict-nightly) (1.0.2)\n",
      "Requirement already satisfied: pandas in /home/ubuntu/.local/share/virtualenvs/mlops_temperature_prediction-M3ZLPW1f/lib/python3.9/site-packages (from lazypredict-nightly) (2.2.2)\n",
      "Requirement already satisfied: tqdm in /home/ubuntu/.local/share/virtualenvs/mlops_temperature_prediction-M3ZLPW1f/lib/python3.9/site-packages (from lazypredict-nightly) (4.66.5)\n",
      "Requirement already satisfied: joblib in /home/ubuntu/.local/share/virtualenvs/mlops_temperature_prediction-M3ZLPW1f/lib/python3.9/site-packages (from lazypredict-nightly) (1.4.2)\n",
      "Requirement already satisfied: lightgbm in /home/ubuntu/.local/share/virtualenvs/mlops_temperature_prediction-M3ZLPW1f/lib/python3.9/site-packages (from lazypredict-nightly) (4.5.0)\n",
      "Requirement already satisfied: xgboost in /home/ubuntu/.local/share/virtualenvs/mlops_temperature_prediction-M3ZLPW1f/lib/python3.9/site-packages (from lazypredict-nightly) (2.1.1)\n",
      "Requirement already satisfied: markupsafe<=2.1.4 in /home/ubuntu/.local/share/virtualenvs/mlops_temperature_prediction-M3ZLPW1f/lib/python3.9/site-packages (from lazypredict-nightly) (2.1.4)\n",
      "Requirement already satisfied: numpy>=1.17.0 in /home/ubuntu/.local/share/virtualenvs/mlops_temperature_prediction-M3ZLPW1f/lib/python3.9/site-packages (from lightgbm->lazypredict-nightly) (1.22.4)\n",
      "Requirement already satisfied: scipy in /home/ubuntu/.local/share/virtualenvs/mlops_temperature_prediction-M3ZLPW1f/lib/python3.9/site-packages (from lightgbm->lazypredict-nightly) (1.13.1)\n",
      "Requirement already satisfied: python-dateutil>=2.8.2 in /home/ubuntu/.local/share/virtualenvs/mlops_temperature_prediction-M3ZLPW1f/lib/python3.9/site-packages (from pandas->lazypredict-nightly) (2.9.0.post0)\n",
      "Requirement already satisfied: pytz>=2020.1 in /home/ubuntu/.local/share/virtualenvs/mlops_temperature_prediction-M3ZLPW1f/lib/python3.9/site-packages (from pandas->lazypredict-nightly) (2024.1)\n",
      "Requirement already satisfied: tzdata>=2022.7 in /home/ubuntu/.local/share/virtualenvs/mlops_temperature_prediction-M3ZLPW1f/lib/python3.9/site-packages (from pandas->lazypredict-nightly) (2024.1)\n",
      "Requirement already satisfied: threadpoolctl>=2.0.0 in /home/ubuntu/.local/share/virtualenvs/mlops_temperature_prediction-M3ZLPW1f/lib/python3.9/site-packages (from scikit-learn->lazypredict-nightly) (3.5.0)\n",
      "Requirement already satisfied: nvidia-nccl-cu12 in /home/ubuntu/.local/share/virtualenvs/mlops_temperature_prediction-M3ZLPW1f/lib/python3.9/site-packages (from xgboost->lazypredict-nightly) (2.22.3)\n",
      "Requirement already satisfied: six>=1.5 in /home/ubuntu/.local/share/virtualenvs/mlops_temperature_prediction-M3ZLPW1f/lib/python3.9/site-packages (from python-dateutil>=2.8.2->pandas->lazypredict-nightly) (1.16.0)\n"
     ]
    }
   ],
   "source": [
    "!pip install lazypredict\n",
    "!pip install lazypredict-nightly"
   ]
  },
  {
   "cell_type": "code",
   "execution_count": 9,
   "id": "ee0ee346-ca16-44b5-8346-485bfea5a211",
   "metadata": {},
   "outputs": [],
   "source": [
    "# Use the lazypredict package to do some baseline\n",
    "import lazypredict \n",
    "from lazypredict import Supervised \n",
    "from lazypredict.Supervised import LazyRegressor"
   ]
  },
  {
   "cell_type": "code",
   "execution_count": 10,
   "id": "0e4555e9-1112-4825-b30b-b89eaa12e218",
   "metadata": {},
   "outputs": [
    {
     "name": "stdout",
     "output_type": "stream",
     "text": [
      "ALL AVAILABLE REGRESSION MODELS:\n",
      "1 AdaBoostRegressor\n",
      "2 BaggingRegressor\n",
      "3 BayesianRidge\n",
      "4 DecisionTreeRegressor\n",
      "5 DummyRegressor\n",
      "6 ElasticNet\n",
      "7 ElasticNetCV\n",
      "8 ExtraTreeRegressor\n",
      "9 ExtraTreesRegressor\n",
      "10 GammaRegressor\n",
      "11 GaussianProcessRegressor\n",
      "12 GradientBoostingRegressor\n",
      "13 HistGradientBoostingRegressor\n",
      "14 HuberRegressor\n",
      "15 KNeighborsRegressor\n",
      "16 KernelRidge\n",
      "17 Lars\n",
      "18 LarsCV\n",
      "19 Lasso\n",
      "20 LassoCV\n",
      "21 LassoLars\n",
      "22 LassoLarsCV\n",
      "23 LassoLarsIC\n",
      "24 LinearRegression\n",
      "25 LinearSVR\n",
      "26 MLPRegressor\n",
      "27 NuSVR\n",
      "28 OrthogonalMatchingPursuit\n",
      "29 OrthogonalMatchingPursuitCV\n",
      "30 PassiveAggressiveRegressor\n",
      "31 PoissonRegressor\n",
      "32 QuantileRegressor\n",
      "33 RANSACRegressor\n",
      "34 RandomForestRegressor\n",
      "35 Ridge\n",
      "36 RidgeCV\n",
      "37 SGDRegressor\n",
      "38 SVR\n",
      "39 TransformedTargetRegressor\n",
      "40 TweedieRegressor\n",
      "41 XGBRegressor\n",
      "42 LGBMRegressor\n",
      "['AdaBoostRegressor', 'BaggingRegressor', 'BayesianRidge', 'DecisionTreeRegressor', 'DummyRegressor', 'ElasticNet', 'ElasticNetCV', 'ExtraTreeRegressor', 'ExtraTreesRegressor', 'GammaRegressor', 'GaussianProcessRegressor', 'GradientBoostingRegressor', 'HistGradientBoostingRegressor', 'HuberRegressor', 'KNeighborsRegressor', 'KernelRidge', 'Lars', 'LarsCV', 'Lasso', 'LassoCV', 'LassoLars', 'LassoLarsCV', 'LassoLarsIC', 'LinearRegression', 'LinearSVR', 'MLPRegressor', 'NuSVR', 'OrthogonalMatchingPursuit', 'OrthogonalMatchingPursuitCV', 'PassiveAggressiveRegressor', 'PoissonRegressor', 'QuantileRegressor', 'RANSACRegressor', 'RandomForestRegressor', 'Ridge', 'RidgeCV', 'SGDRegressor', 'SVR', 'TransformedTargetRegressor', 'TweedieRegressor', 'XGBRegressor', 'LGBMRegressor']\n"
     ]
    }
   ],
   "source": [
    "models_1_20 = []\n",
    "print(\"ALL AVAILABLE REGRESSION MODELS:\")\n",
    "for i in range(42):\n",
    "    print(i+1, lazypredict.Supervised.REGRESSORS[i][0])\n",
    "    models_1_20.append(lazypredict.Supervised.REGRESSORS[i][0])\n",
    "print(models_1_20)"
   ]
  },
  {
   "cell_type": "code",
   "execution_count": 46,
   "id": "67fa7bb2-9290-4fc2-a039-f6aba93bdbec",
   "metadata": {},
   "outputs": [],
   "source": [
    "from sklearn.utils import all_estimators\n",
    "from sklearn.base import RegressorMixin\n",
    "ignored_regressors = [\n",
    "    'PoissonRegressor','QuantileRegressor'\n",
    "]\n",
    "\n",
    "REGRESSORS = [\n",
    "    est\n",
    "    for est in all_estimators()\n",
    "    if (issubclass(est[1], RegressorMixin) and (est[0] not in ignored_regressors))\n",
    "]\n",
    "\n",
    "REGRESSORS.append((\"XGBRegressor\", xgboost.XGBRegressor))\n",
    "REGRESSORS.append((\"LGBMRegressor\", lightgbm.LGBMRegressor))\n"
   ]
  },
  {
   "cell_type": "code",
   "execution_count": 9,
   "id": "f1b8f566-ed1d-49cb-9a2c-36eed41b378a",
   "metadata": {},
   "outputs": [],
   "source": [
    "# If for some reason, you are unable to load lazypredict, you could try the following fix - \n",
    "# Had to change the parameter \"sparse\" to \"sparse_output\" on the OneHotEncoder function in the following file\n",
    "#  ~/.local/share/virtualenvs/mlops_temperature_prediction-M3ZLPW1f/lib/python3.9/site-packages/lazypredict/Supervised.py"
   ]
  },
  {
   "cell_type": "code",
   "execution_count": 47,
   "id": "4ba4f7a2-56a6-4cad-b2fa-edaaa966e29f",
   "metadata": {},
   "outputs": [
    {
     "name": "stdout",
     "output_type": "stream",
     "text": [
      "'tuple' object has no attribute '__name__'\n",
      "Invalid Regressor(s)\n"
     ]
    },
    {
     "name": "stderr",
     "output_type": "stream",
     "text": [
      "  0%|                                                                                            | 0/55 [00:00<?, ?it/s]"
     ]
    },
    {
     "name": "stdout",
     "output_type": "stream",
     "text": [
      "{'Model': 'ARDRegression', 'R-Squared': 0.9744174496716211, 'Adjusted R-Squared': 0.9743820237859043, 'RMSE': 0.918545323785412, 'Time taken': 0.06790351867675781}\n"
     ]
    },
    {
     "name": "stderr",
     "output_type": "stream",
     "text": [
      "  4%|███                                                                                 | 2/55 [00:00<00:22,  2.40it/s]"
     ]
    },
    {
     "name": "stdout",
     "output_type": "stream",
     "text": [
      "{'Model': 'AdaBoostRegressor', 'R-Squared': 0.9365797778188506, 'Adjusted R-Squared': 0.9364919555527244, 'RMSE': 1.4462472679614864, 'Time taken': 0.7635338306427002}\n"
     ]
    },
    {
     "name": "stderr",
     "output_type": "stream",
     "text": [
      "  9%|███████▋                                                                            | 5/55 [00:01<00:11,  4.45it/s]"
     ]
    },
    {
     "name": "stdout",
     "output_type": "stream",
     "text": [
      "{'Model': 'BaggingRegressor', 'R-Squared': 0.9716138772196062, 'Adjusted R-Squared': 0.9715745690377144, 'RMSE': 0.9675684762314688, 'Time taken': 0.44682979583740234}\n",
      "{'Model': 'BayesianRidge', 'R-Squared': 0.9744167578183266, 'Adjusted R-Squared': 0.9743813309745537, 'RMSE': 0.9185577442498257, 'Time taken': 0.04990243911743164}\n",
      "{'Model': 'CCA', 'R-Squared': 0.8530622286916207, 'Adjusted R-Squared': 0.8528587540330335, 'RMSE': 2.201381924399834, 'Time taken': 0.053823232650756836}\n"
     ]
    },
    {
     "name": "stderr",
     "output_type": "stream",
     "text": [
      " 11%|█████████▏                                                                          | 6/55 [00:01<00:09,  5.01it/s]"
     ]
    },
    {
     "name": "stdout",
     "output_type": "stream",
     "text": [
      "{'Model': 'DecisionTreeRegressor', 'R-Squared': 0.9509501186655906, 'Adjusted R-Squared': 0.9508821959812502, 'RMSE': 1.2718844347701999, 'Time taken': 0.1322033405303955}\n",
      "{'Model': 'DummyRegressor', 'R-Squared': -4.3196982982163235e-05, 'Adjusted R-Squared': -0.0014280243576370033, 'RMSE': 5.742989891704024, 'Time taken': 0.013930797576904297}\n",
      "{'Model': 'ElasticNet', 'R-Squared': 0.8938442113443718, 'Adjusted R-Squared': 0.893697210252267, 'RMSE': 1.8711151386921692, 'Time taken': 0.039855003356933594}\n"
     ]
    },
    {
     "name": "stderr",
     "output_type": "stream",
     "text": [
      " 18%|███████████████                                                                    | 10/55 [00:02<00:06,  6.47it/s]"
     ]
    },
    {
     "name": "stdout",
     "output_type": "stream",
     "text": [
      "{'Model': 'ElasticNetCV', 'R-Squared': 0.9743881353897952, 'Adjusted R-Squared': 0.9743526689106119, 'RMSE': 0.9190714399660623, 'Time taken': 0.3502488136291504}\n",
      "{'Model': 'ExtraTreeRegressor', 'R-Squared': 0.9484642321152025, 'Adjusted R-Squared': 0.948392867055817, 'RMSE': 1.3037161567089395, 'Time taken': 0.11365866661071777}\n"
     ]
    },
    {
     "name": "stderr",
     "output_type": "stream",
     "text": [
      " 20%|████████████████▌                                                                  | 11/55 [00:05<00:36,  1.22it/s]"
     ]
    },
    {
     "name": "stdout",
     "output_type": "stream",
     "text": [
      "{'Model': 'ExtraTreesRegressor', 'R-Squared': 0.974581569302815, 'Adjusted R-Squared': 0.9745463706846389, 'RMSE': 0.9155942130657427, 'Time taken': 3.073446035385132}\n"
     ]
    },
    {
     "name": "stderr",
     "output_type": "stream",
     "text": [
      " 24%|███████████████████▌                                                               | 13/55 [00:52<06:55,  9.89s/it]"
     ]
    },
    {
     "name": "stdout",
     "output_type": "stream",
     "text": [
      "{'Model': 'GaussianProcessRegressor', 'R-Squared': -238.74109627869973, 'Adjusted R-Squared': -239.07308197087596, 'RMSE': 88.92009447110158, 'Time taken': 47.69139337539673}\n"
     ]
    },
    {
     "name": "stderr",
     "output_type": "stream",
     "text": [
      " 25%|█████████████████████▏                                                             | 14/55 [00:54<05:27,  8.00s/it]"
     ]
    },
    {
     "name": "stdout",
     "output_type": "stream",
     "text": [
      "{'Model': 'GradientBoostingRegressor', 'R-Squared': 0.9754975027568396, 'Adjusted R-Squared': 0.9754635724935948, 'RMSE': 0.8989465012856895, 'Time taken': 1.255972146987915}\n"
     ]
    },
    {
     "name": "stderr",
     "output_type": "stream",
     "text": [
      " 29%|████████████████████████▏                                                          | 16/55 [00:55<03:05,  4.75s/it]"
     ]
    },
    {
     "name": "stdout",
     "output_type": "stream",
     "text": [
      "{'Model': 'HistGradientBoostingRegressor', 'R-Squared': 0.976154461756955, 'Adjusted R-Squared': 0.9761214412292198, 'RMSE': 0.8868133797246194, 'Time taken': 0.9481751918792725}\n",
      "{'Model': 'HuberRegressor', 'R-Squared': 0.9742813818107054, 'Adjusted R-Squared': 0.9742457675026293, 'RMSE': 0.9209848527830801, 'Time taken': 0.16171669960021973}\n"
     ]
    },
    {
     "name": "stderr",
     "output_type": "stream",
     "text": [
      " 33%|███████████████████████████▏                                                       | 18/55 [00:55<01:44,  2.81s/it]"
     ]
    },
    {
     "name": "stdout",
     "output_type": "stream",
     "text": [
      "{'Model': 'KNeighborsRegressor', 'R-Squared': 0.9671720143771088, 'Adjusted R-Squared': 0.9671265552476607, 'RMSE': 1.0405208552762806, 'Time taken': 0.2659718990325928}\n"
     ]
    },
    {
     "name": "stderr",
     "output_type": "stream",
     "text": [
      " 38%|███████████████████████████████▋                                                   | 21/55 [00:56<00:51,  1.50s/it]"
     ]
    },
    {
     "name": "stdout",
     "output_type": "stream",
     "text": [
      "{'Model': 'Lars', 'R-Squared': 0.9744167403263222, 'Adjusted R-Squared': 0.974381313458327, 'RMSE': 0.9185580582720516, 'Time taken': 0.03180408477783203}\n",
      "{'Model': 'LarsCV', 'R-Squared': 0.9744167403263222, 'Adjusted R-Squared': 0.974381313458327, 'RMSE': 0.9185580582720516, 'Time taken': 0.08686661720275879}\n",
      "{'Model': 'Lasso', 'R-Squared': 0.9327407129069073, 'Adjusted R-Squared': 0.9326475744282423, 'RMSE': 1.4893775451643243, 'Time taken': 0.06888866424560547}\n"
     ]
    },
    {
     "name": "stderr",
     "output_type": "stream",
     "text": [
      " 45%|█████████████████████████████████████▋                                             | 25/55 [00:57<00:21,  1.40it/s]"
     ]
    },
    {
     "name": "stdout",
     "output_type": "stream",
     "text": [
      "{'Model': 'LassoCV', 'R-Squared': 0.9744138107333028, 'Adjusted R-Squared': 0.9743783798085023, 'RMSE': 0.9186106497767335, 'Time taken': 0.40846776962280273}\n",
      "{'Model': 'LassoLars', 'R-Squared': -4.3196982982163235e-05, 'Adjusted R-Squared': -0.0014280243576370033, 'RMSE': 5.742989891704024, 'Time taken': 0.07264113426208496}\n",
      "{'Model': 'LassoLarsCV', 'R-Squared': 0.9744167403263222, 'Adjusted R-Squared': 0.974381313458327, 'RMSE': 0.9185580582720516, 'Time taken': 0.07744908332824707}\n"
     ]
    },
    {
     "name": "stderr",
     "output_type": "stream",
     "text": [
      " 49%|████████████████████████████████████████▋                                          | 27/55 [00:57<00:13,  2.01it/s]"
     ]
    },
    {
     "name": "stdout",
     "output_type": "stream",
     "text": [
      "{'Model': 'LassoLarsIC', 'R-Squared': 0.9744167403263222, 'Adjusted R-Squared': 0.974381313458327, 'RMSE': 0.9185580582720516, 'Time taken': 0.05462789535522461}\n",
      "{'Model': 'LinearRegression', 'R-Squared': 0.9744167403263222, 'Adjusted R-Squared': 0.974381313458327, 'RMSE': 0.9185580582720516, 'Time taken': 0.0502774715423584}\n",
      "{'Model': 'LinearSVR', 'R-Squared': 0.9741625332546631, 'Adjusted R-Squared': 0.9741267543689623, 'RMSE': 0.9231103860522168, 'Time taken': 0.6641552448272705}\n"
     ]
    },
    {
     "name": "stderr",
     "output_type": "stream",
     "text": [
      " 53%|███████████████████████████████████████████▊                                       | 29/55 [01:23<01:55,  4.43s/it]"
     ]
    },
    {
     "name": "stdout",
     "output_type": "stream",
     "text": [
      "{'Model': 'MLPRegressor', 'R-Squared': 0.9769665886445724, 'Adjusted R-Squared': 0.9769346927238033, 'RMSE': 0.8715810994689073, 'Time taken': 24.981940984725952}\n"
     ]
    },
    {
     "name": "stderr",
     "output_type": "stream",
     "text": [
      " 64%|████████████████████████████████████████████████████▊                              | 35/55 [01:31<00:53,  2.69s/it]"
     ]
    },
    {
     "name": "stdout",
     "output_type": "stream",
     "text": [
      "{'Model': 'NuSVR', 'R-Squared': 0.9727797356161616, 'Adjusted R-Squared': 0.9727420418771533, 'RMSE': 0.9474904504770636, 'Time taken': 8.394438743591309}\n",
      "{'Model': 'OrthogonalMatchingPursuit', 'R-Squared': 0.9127927115838711, 'Adjusted R-Squared': 0.9126719497601494, 'RMSE': 1.6959188347326601, 'Time taken': 0.048575639724731445}\n"
     ]
    },
    {
     "name": "stderr",
     "output_type": "stream",
     "text": [
      " 69%|█████████████████████████████████████████████████████████▎                         | 38/55 [01:32<00:31,  1.87s/it]"
     ]
    },
    {
     "name": "stdout",
     "output_type": "stream",
     "text": [
      "{'Model': 'OrthogonalMatchingPursuitCV', 'R-Squared': 0.9742948356786048, 'Adjusted R-Squared': 0.9742592400010084, 'RMSE': 0.9207439294694211, 'Time taken': 0.25775599479675293}\n",
      "{'Model': 'PLSCanonical', 'R-Squared': 0.3782926450317857, 'Adjusted R-Squared': 0.3774317248567556, 'RMSE': 4.528159067657198, 'Time taken': 0.11149144172668457}\n"
     ]
    },
    {
     "name": "stderr",
     "output_type": "stream",
     "text": [
      " 73%|████████████████████████████████████████████████████████████▎                      | 40/55 [01:32<00:20,  1.34s/it]"
     ]
    },
    {
     "name": "stdout",
     "output_type": "stream",
     "text": [
      "{'Model': 'PLSRegression', 'R-Squared': 0.9578674447722895, 'Adjusted R-Squared': 0.9578091009767219, 'RMSE': 1.1787930627406364, 'Time taken': 0.2678236961364746}\n",
      "{'Model': 'PassiveAggressiveRegressor', 'R-Squared': 0.8872876604070177, 'Adjusted R-Squared': 0.8871315800158899, 'RMSE': 1.9280327394636543, 'Time taken': 0.1086568832397461}\n"
     ]
    },
    {
     "name": "stderr",
     "output_type": "stream",
     "text": [
      " 75%|█████████████████████████████████████████████████████████████▊                     | 41/55 [01:32<00:15,  1.09s/it]"
     ]
    },
    {
     "name": "stdout",
     "output_type": "stream",
     "text": [
      "{'Model': 'RANSACRegressor', 'R-Squared': 0.9743072360131172, 'Adjusted R-Squared': 0.9742716575071018, 'RMSE': 0.9205218163195538, 'Time taken': 0.1623375415802002}\n"
     ]
    },
    {
     "name": "stderr",
     "output_type": "stream",
     "text": [
      " 84%|█████████████████████████████████████████████████████████████████████▍             | 46/55 [01:38<00:08,  1.06it/s]"
     ]
    },
    {
     "name": "stdout",
     "output_type": "stream",
     "text": [
      "{'Model': 'RandomForestRegressor', 'R-Squared': 0.974439688677154, 'Adjusted R-Squared': 0.9744042935872905, 'RMSE': 0.9181459895587789, 'Time taken': 4.468021392822266}\n",
      "{'Model': 'RidgeCV', 'R-Squared': 0.9744167870573585, 'Adjusted R-Squared': 0.9743813602540748, 'RMSE': 0.9185572193408513, 'Time taken': 0.0773773193359375}\n",
      "{'Model': 'SGDRegressor', 'R-Squared': 0.974404888712695, 'Adjusted R-Squared': 0.9743694454329698, 'RMSE': 0.9187707976733834, 'Time taken': 0.10433149337768555}\n"
     ]
    },
    {
     "name": "stderr",
     "output_type": "stream",
     "text": [
      " 87%|████████████████████████████████████████████████████████████████████████▍          | 48/55 [01:47<00:14,  2.14s/it]"
     ]
    },
    {
     "name": "stdout",
     "output_type": "stream",
     "text": [
      "{'Model': 'SVR', 'R-Squared': 0.9727935074803777, 'Adjusted R-Squared': 0.9727558328122002, 'RMSE': 0.9472507327334184, 'Time taken': 9.016865730285645}\n"
     ]
    },
    {
     "name": "stderr",
     "output_type": "stream",
     "text": [
      " 93%|████████████████████████████████████████████████████████████████████████████▉      | 51/55 [01:50<00:06,  1.64s/it]"
     ]
    },
    {
     "name": "stdout",
     "output_type": "stream",
     "text": [
      "{'Model': 'TheilSenRegressor', 'R-Squared': 0.9665256239635106, 'Adjusted R-Squared': 0.9664792697335887, 'RMSE': 1.050714963548804, 'Time taken': 3.3844306468963623}\n",
      "{'Model': 'TransformedTargetRegressor', 'R-Squared': 0.9744167403263222, 'Adjusted R-Squared': 0.974381313458327, 'RMSE': 0.9185580582720516, 'Time taken': 0.0993950366973877}\n",
      "{'Model': 'TweedieRegressor', 'R-Squared': 0.8645855506893001, 'Adjusted R-Squared': 0.8643980331531627, 'RMSE': 2.1133001114379084, 'Time taken': 0.06873774528503418}\n"
     ]
    },
    {
     "name": "stderr",
     "output_type": "stream",
     "text": [
      " 98%|█████████████████████████████████████████████████████████████████████████████████▍ | 54/55 [01:51<00:01,  1.03s/it]"
     ]
    },
    {
     "name": "stdout",
     "output_type": "stream",
     "text": [
      "{'Model': 'XGBRegressor', 'R-Squared': 0.9741252136729786, 'Adjusted R-Squared': 0.9740893831083318, 'RMSE': 0.9237768148252309, 'Time taken': 0.7200818061828613}\n",
      "[LightGBM] [Info] Auto-choosing row-wise multi-threading, the overhead of testing was 0.007473 seconds.\n",
      "You can set `force_row_wise=true` to remove the overhead.\n",
      "And if memory is not enough, you can set `force_col_wise=true`.\n",
      "[LightGBM] [Info] Total Bins 939\n",
      "[LightGBM] [Info] Number of data points in the train set: 10278, number of used features: 7\n",
      "[LightGBM] [Info] Start training from score 11.487968\n"
     ]
    },
    {
     "name": "stderr",
     "output_type": "stream",
     "text": [
      "100%|███████████████████████████████████████████████████████████████████████████████████| 55/55 [01:52<00:00,  2.04s/it]"
     ]
    },
    {
     "name": "stdout",
     "output_type": "stream",
     "text": [
      "{'Model': 'LGBMRegressor', 'R-Squared': 0.97648202466436, 'Adjusted R-Squared': 0.9764494577351118, 'RMSE': 0.8807012996995917, 'Time taken': 0.5072281360626221}\n",
      "CPU times: user 4min 5s, sys: 49.5 s, total: 4min 55s\n",
      "Wall time: 1min 52s\n"
     ]
    },
    {
     "name": "stderr",
     "output_type": "stream",
     "text": [
      "\n"
     ]
    }
   ],
   "source": [
    "%%time\n",
    "# https://github.com/sanskar-hasija/lazypredict/blob/main/Regression/LazyPredict%20Regression.ipynb\n",
    "reg = LazyRegressor(verbose=1,\n",
    "                     ignore_warnings=True,\n",
    "                     custom_metric=None,\n",
    "                     random_state=12,\n",
    "                     # regressors='all'\n",
    "                     regressors=REGRESSORS\n",
    "                    )\n",
    "models,predictions = reg.fit(X_train, X_test, y_train, y_test)"
   ]
  },
  {
   "cell_type": "code",
   "execution_count": 48,
   "id": "25642331-0f07-4ed2-b8c1-5e2386931729",
   "metadata": {},
   "outputs": [
    {
     "data": {
      "text/plain": [
       "'KNeighborsRegressor'"
      ]
     },
     "execution_count": 48,
     "metadata": {},
     "output_type": "execute_result"
    }
   ],
   "source": [
    "models.index[26]"
   ]
  },
  {
   "cell_type": "code",
   "execution_count": 49,
   "id": "55ee244b-a0a1-4433-8b21-ee9ec577b420",
   "metadata": {},
   "outputs": [
    {
     "data": {
      "text/html": [
       "<div>\n",
       "<style scoped>\n",
       "    .dataframe tbody tr th:only-of-type {\n",
       "        vertical-align: middle;\n",
       "    }\n",
       "\n",
       "    .dataframe tbody tr th {\n",
       "        vertical-align: top;\n",
       "    }\n",
       "\n",
       "    .dataframe thead th {\n",
       "        text-align: right;\n",
       "    }\n",
       "</style>\n",
       "<table border=\"1\" class=\"dataframe\">\n",
       "  <thead>\n",
       "    <tr style=\"text-align: right;\">\n",
       "      <th></th>\n",
       "      <th>Adjusted R-Squared</th>\n",
       "      <th>R-Squared</th>\n",
       "      <th>RMSE</th>\n",
       "      <th>Time Taken</th>\n",
       "    </tr>\n",
       "    <tr>\n",
       "      <th>Model</th>\n",
       "      <th></th>\n",
       "      <th></th>\n",
       "      <th></th>\n",
       "      <th></th>\n",
       "    </tr>\n",
       "  </thead>\n",
       "  <tbody>\n",
       "    <tr>\n",
       "      <th>MLPRegressor</th>\n",
       "      <td>0.98</td>\n",
       "      <td>0.98</td>\n",
       "      <td>0.87</td>\n",
       "      <td>24.98</td>\n",
       "    </tr>\n",
       "    <tr>\n",
       "      <th>LGBMRegressor</th>\n",
       "      <td>0.98</td>\n",
       "      <td>0.98</td>\n",
       "      <td>0.88</td>\n",
       "      <td>0.51</td>\n",
       "    </tr>\n",
       "    <tr>\n",
       "      <th>HistGradientBoostingRegressor</th>\n",
       "      <td>0.98</td>\n",
       "      <td>0.98</td>\n",
       "      <td>0.89</td>\n",
       "      <td>0.95</td>\n",
       "    </tr>\n",
       "    <tr>\n",
       "      <th>GradientBoostingRegressor</th>\n",
       "      <td>0.98</td>\n",
       "      <td>0.98</td>\n",
       "      <td>0.90</td>\n",
       "      <td>1.26</td>\n",
       "    </tr>\n",
       "    <tr>\n",
       "      <th>ExtraTreesRegressor</th>\n",
       "      <td>0.97</td>\n",
       "      <td>0.97</td>\n",
       "      <td>0.92</td>\n",
       "      <td>3.07</td>\n",
       "    </tr>\n",
       "    <tr>\n",
       "      <th>RandomForestRegressor</th>\n",
       "      <td>0.97</td>\n",
       "      <td>0.97</td>\n",
       "      <td>0.92</td>\n",
       "      <td>4.47</td>\n",
       "    </tr>\n",
       "    <tr>\n",
       "      <th>ARDRegression</th>\n",
       "      <td>0.97</td>\n",
       "      <td>0.97</td>\n",
       "      <td>0.92</td>\n",
       "      <td>0.07</td>\n",
       "    </tr>\n",
       "    <tr>\n",
       "      <th>RidgeCV</th>\n",
       "      <td>0.97</td>\n",
       "      <td>0.97</td>\n",
       "      <td>0.92</td>\n",
       "      <td>0.08</td>\n",
       "    </tr>\n",
       "    <tr>\n",
       "      <th>BayesianRidge</th>\n",
       "      <td>0.97</td>\n",
       "      <td>0.97</td>\n",
       "      <td>0.92</td>\n",
       "      <td>0.05</td>\n",
       "    </tr>\n",
       "    <tr>\n",
       "      <th>LassoLarsCV</th>\n",
       "      <td>0.97</td>\n",
       "      <td>0.97</td>\n",
       "      <td>0.92</td>\n",
       "      <td>0.08</td>\n",
       "    </tr>\n",
       "    <tr>\n",
       "      <th>LassoLarsIC</th>\n",
       "      <td>0.97</td>\n",
       "      <td>0.97</td>\n",
       "      <td>0.92</td>\n",
       "      <td>0.05</td>\n",
       "    </tr>\n",
       "    <tr>\n",
       "      <th>TransformedTargetRegressor</th>\n",
       "      <td>0.97</td>\n",
       "      <td>0.97</td>\n",
       "      <td>0.92</td>\n",
       "      <td>0.10</td>\n",
       "    </tr>\n",
       "    <tr>\n",
       "      <th>Lars</th>\n",
       "      <td>0.97</td>\n",
       "      <td>0.97</td>\n",
       "      <td>0.92</td>\n",
       "      <td>0.03</td>\n",
       "    </tr>\n",
       "    <tr>\n",
       "      <th>LarsCV</th>\n",
       "      <td>0.97</td>\n",
       "      <td>0.97</td>\n",
       "      <td>0.92</td>\n",
       "      <td>0.09</td>\n",
       "    </tr>\n",
       "    <tr>\n",
       "      <th>LinearRegression</th>\n",
       "      <td>0.97</td>\n",
       "      <td>0.97</td>\n",
       "      <td>0.92</td>\n",
       "      <td>0.05</td>\n",
       "    </tr>\n",
       "    <tr>\n",
       "      <th>LassoCV</th>\n",
       "      <td>0.97</td>\n",
       "      <td>0.97</td>\n",
       "      <td>0.92</td>\n",
       "      <td>0.41</td>\n",
       "    </tr>\n",
       "    <tr>\n",
       "      <th>SGDRegressor</th>\n",
       "      <td>0.97</td>\n",
       "      <td>0.97</td>\n",
       "      <td>0.92</td>\n",
       "      <td>0.10</td>\n",
       "    </tr>\n",
       "    <tr>\n",
       "      <th>ElasticNetCV</th>\n",
       "      <td>0.97</td>\n",
       "      <td>0.97</td>\n",
       "      <td>0.92</td>\n",
       "      <td>0.35</td>\n",
       "    </tr>\n",
       "    <tr>\n",
       "      <th>RANSACRegressor</th>\n",
       "      <td>0.97</td>\n",
       "      <td>0.97</td>\n",
       "      <td>0.92</td>\n",
       "      <td>0.16</td>\n",
       "    </tr>\n",
       "    <tr>\n",
       "      <th>OrthogonalMatchingPursuitCV</th>\n",
       "      <td>0.97</td>\n",
       "      <td>0.97</td>\n",
       "      <td>0.92</td>\n",
       "      <td>0.26</td>\n",
       "    </tr>\n",
       "    <tr>\n",
       "      <th>HuberRegressor</th>\n",
       "      <td>0.97</td>\n",
       "      <td>0.97</td>\n",
       "      <td>0.92</td>\n",
       "      <td>0.16</td>\n",
       "    </tr>\n",
       "    <tr>\n",
       "      <th>LinearSVR</th>\n",
       "      <td>0.97</td>\n",
       "      <td>0.97</td>\n",
       "      <td>0.92</td>\n",
       "      <td>0.66</td>\n",
       "    </tr>\n",
       "    <tr>\n",
       "      <th>XGBRegressor</th>\n",
       "      <td>0.97</td>\n",
       "      <td>0.97</td>\n",
       "      <td>0.92</td>\n",
       "      <td>0.72</td>\n",
       "    </tr>\n",
       "    <tr>\n",
       "      <th>SVR</th>\n",
       "      <td>0.97</td>\n",
       "      <td>0.97</td>\n",
       "      <td>0.95</td>\n",
       "      <td>9.02</td>\n",
       "    </tr>\n",
       "    <tr>\n",
       "      <th>NuSVR</th>\n",
       "      <td>0.97</td>\n",
       "      <td>0.97</td>\n",
       "      <td>0.95</td>\n",
       "      <td>8.39</td>\n",
       "    </tr>\n",
       "    <tr>\n",
       "      <th>BaggingRegressor</th>\n",
       "      <td>0.97</td>\n",
       "      <td>0.97</td>\n",
       "      <td>0.97</td>\n",
       "      <td>0.45</td>\n",
       "    </tr>\n",
       "    <tr>\n",
       "      <th>KNeighborsRegressor</th>\n",
       "      <td>0.97</td>\n",
       "      <td>0.97</td>\n",
       "      <td>1.04</td>\n",
       "      <td>0.27</td>\n",
       "    </tr>\n",
       "    <tr>\n",
       "      <th>TheilSenRegressor</th>\n",
       "      <td>0.97</td>\n",
       "      <td>0.97</td>\n",
       "      <td>1.05</td>\n",
       "      <td>3.38</td>\n",
       "    </tr>\n",
       "    <tr>\n",
       "      <th>PLSRegression</th>\n",
       "      <td>0.96</td>\n",
       "      <td>0.96</td>\n",
       "      <td>1.18</td>\n",
       "      <td>0.27</td>\n",
       "    </tr>\n",
       "    <tr>\n",
       "      <th>DecisionTreeRegressor</th>\n",
       "      <td>0.95</td>\n",
       "      <td>0.95</td>\n",
       "      <td>1.27</td>\n",
       "      <td>0.13</td>\n",
       "    </tr>\n",
       "    <tr>\n",
       "      <th>ExtraTreeRegressor</th>\n",
       "      <td>0.95</td>\n",
       "      <td>0.95</td>\n",
       "      <td>1.30</td>\n",
       "      <td>0.11</td>\n",
       "    </tr>\n",
       "    <tr>\n",
       "      <th>AdaBoostRegressor</th>\n",
       "      <td>0.94</td>\n",
       "      <td>0.94</td>\n",
       "      <td>1.45</td>\n",
       "      <td>0.76</td>\n",
       "    </tr>\n",
       "    <tr>\n",
       "      <th>Lasso</th>\n",
       "      <td>0.93</td>\n",
       "      <td>0.93</td>\n",
       "      <td>1.49</td>\n",
       "      <td>0.07</td>\n",
       "    </tr>\n",
       "    <tr>\n",
       "      <th>OrthogonalMatchingPursuit</th>\n",
       "      <td>0.91</td>\n",
       "      <td>0.91</td>\n",
       "      <td>1.70</td>\n",
       "      <td>0.05</td>\n",
       "    </tr>\n",
       "    <tr>\n",
       "      <th>ElasticNet</th>\n",
       "      <td>0.89</td>\n",
       "      <td>0.89</td>\n",
       "      <td>1.87</td>\n",
       "      <td>0.04</td>\n",
       "    </tr>\n",
       "    <tr>\n",
       "      <th>PassiveAggressiveRegressor</th>\n",
       "      <td>0.89</td>\n",
       "      <td>0.89</td>\n",
       "      <td>1.93</td>\n",
       "      <td>0.11</td>\n",
       "    </tr>\n",
       "    <tr>\n",
       "      <th>TweedieRegressor</th>\n",
       "      <td>0.86</td>\n",
       "      <td>0.86</td>\n",
       "      <td>2.11</td>\n",
       "      <td>0.07</td>\n",
       "    </tr>\n",
       "    <tr>\n",
       "      <th>CCA</th>\n",
       "      <td>0.85</td>\n",
       "      <td>0.85</td>\n",
       "      <td>2.20</td>\n",
       "      <td>0.05</td>\n",
       "    </tr>\n",
       "    <tr>\n",
       "      <th>PLSCanonical</th>\n",
       "      <td>0.38</td>\n",
       "      <td>0.38</td>\n",
       "      <td>4.53</td>\n",
       "      <td>0.11</td>\n",
       "    </tr>\n",
       "    <tr>\n",
       "      <th>LassoLars</th>\n",
       "      <td>-0.00</td>\n",
       "      <td>-0.00</td>\n",
       "      <td>5.74</td>\n",
       "      <td>0.07</td>\n",
       "    </tr>\n",
       "    <tr>\n",
       "      <th>DummyRegressor</th>\n",
       "      <td>-0.00</td>\n",
       "      <td>-0.00</td>\n",
       "      <td>5.74</td>\n",
       "      <td>0.01</td>\n",
       "    </tr>\n",
       "    <tr>\n",
       "      <th>GaussianProcessRegressor</th>\n",
       "      <td>-239.07</td>\n",
       "      <td>-238.74</td>\n",
       "      <td>88.92</td>\n",
       "      <td>47.69</td>\n",
       "    </tr>\n",
       "  </tbody>\n",
       "</table>\n",
       "</div>"
      ],
      "text/plain": [
       "                               Adjusted R-Squared  R-Squared  RMSE  Time Taken\n",
       "Model                                                                         \n",
       "MLPRegressor                                 0.98       0.98  0.87       24.98\n",
       "LGBMRegressor                                0.98       0.98  0.88        0.51\n",
       "HistGradientBoostingRegressor                0.98       0.98  0.89        0.95\n",
       "GradientBoostingRegressor                    0.98       0.98  0.90        1.26\n",
       "ExtraTreesRegressor                          0.97       0.97  0.92        3.07\n",
       "RandomForestRegressor                        0.97       0.97  0.92        4.47\n",
       "ARDRegression                                0.97       0.97  0.92        0.07\n",
       "RidgeCV                                      0.97       0.97  0.92        0.08\n",
       "BayesianRidge                                0.97       0.97  0.92        0.05\n",
       "LassoLarsCV                                  0.97       0.97  0.92        0.08\n",
       "LassoLarsIC                                  0.97       0.97  0.92        0.05\n",
       "TransformedTargetRegressor                   0.97       0.97  0.92        0.10\n",
       "Lars                                         0.97       0.97  0.92        0.03\n",
       "LarsCV                                       0.97       0.97  0.92        0.09\n",
       "LinearRegression                             0.97       0.97  0.92        0.05\n",
       "LassoCV                                      0.97       0.97  0.92        0.41\n",
       "SGDRegressor                                 0.97       0.97  0.92        0.10\n",
       "ElasticNetCV                                 0.97       0.97  0.92        0.35\n",
       "RANSACRegressor                              0.97       0.97  0.92        0.16\n",
       "OrthogonalMatchingPursuitCV                  0.97       0.97  0.92        0.26\n",
       "HuberRegressor                               0.97       0.97  0.92        0.16\n",
       "LinearSVR                                    0.97       0.97  0.92        0.66\n",
       "XGBRegressor                                 0.97       0.97  0.92        0.72\n",
       "SVR                                          0.97       0.97  0.95        9.02\n",
       "NuSVR                                        0.97       0.97  0.95        8.39\n",
       "BaggingRegressor                             0.97       0.97  0.97        0.45\n",
       "KNeighborsRegressor                          0.97       0.97  1.04        0.27\n",
       "TheilSenRegressor                            0.97       0.97  1.05        3.38\n",
       "PLSRegression                                0.96       0.96  1.18        0.27\n",
       "DecisionTreeRegressor                        0.95       0.95  1.27        0.13\n",
       "ExtraTreeRegressor                           0.95       0.95  1.30        0.11\n",
       "AdaBoostRegressor                            0.94       0.94  1.45        0.76\n",
       "Lasso                                        0.93       0.93  1.49        0.07\n",
       "OrthogonalMatchingPursuit                    0.91       0.91  1.70        0.05\n",
       "ElasticNet                                   0.89       0.89  1.87        0.04\n",
       "PassiveAggressiveRegressor                   0.89       0.89  1.93        0.11\n",
       "TweedieRegressor                             0.86       0.86  2.11        0.07\n",
       "CCA                                          0.85       0.85  2.20        0.05\n",
       "PLSCanonical                                 0.38       0.38  4.53        0.11\n",
       "LassoLars                                   -0.00      -0.00  5.74        0.07\n",
       "DummyRegressor                              -0.00      -0.00  5.74        0.01\n",
       "GaussianProcessRegressor                  -239.07    -238.74 88.92       47.69"
      ]
     },
     "execution_count": 49,
     "metadata": {},
     "output_type": "execute_result"
    }
   ],
   "source": [
    "models"
   ]
  },
  {
   "cell_type": "code",
   "execution_count": 50,
   "id": "8efbcb07-a04f-4fdf-ab99-881b06a5aaa0",
   "metadata": {},
   "outputs": [
    {
     "data": {
      "text/html": [
       "<div>\n",
       "<style scoped>\n",
       "    .dataframe tbody tr th:only-of-type {\n",
       "        vertical-align: middle;\n",
       "    }\n",
       "\n",
       "    .dataframe tbody tr th {\n",
       "        vertical-align: top;\n",
       "    }\n",
       "\n",
       "    .dataframe thead th {\n",
       "        text-align: right;\n",
       "    }\n",
       "</style>\n",
       "<table border=\"1\" class=\"dataframe\">\n",
       "  <thead>\n",
       "    <tr style=\"text-align: right;\">\n",
       "      <th></th>\n",
       "      <th>Adjusted R-Squared</th>\n",
       "      <th>R-Squared</th>\n",
       "      <th>RMSE</th>\n",
       "      <th>Time Taken</th>\n",
       "    </tr>\n",
       "    <tr>\n",
       "      <th>Model</th>\n",
       "      <th></th>\n",
       "      <th></th>\n",
       "      <th></th>\n",
       "      <th></th>\n",
       "    </tr>\n",
       "  </thead>\n",
       "  <tbody>\n",
       "    <tr>\n",
       "      <th>MLPRegressor</th>\n",
       "      <td>0.98</td>\n",
       "      <td>0.98</td>\n",
       "      <td>0.87</td>\n",
       "      <td>24.98</td>\n",
       "    </tr>\n",
       "    <tr>\n",
       "      <th>LGBMRegressor</th>\n",
       "      <td>0.98</td>\n",
       "      <td>0.98</td>\n",
       "      <td>0.88</td>\n",
       "      <td>0.51</td>\n",
       "    </tr>\n",
       "    <tr>\n",
       "      <th>HistGradientBoostingRegressor</th>\n",
       "      <td>0.98</td>\n",
       "      <td>0.98</td>\n",
       "      <td>0.89</td>\n",
       "      <td>0.95</td>\n",
       "    </tr>\n",
       "    <tr>\n",
       "      <th>GradientBoostingRegressor</th>\n",
       "      <td>0.98</td>\n",
       "      <td>0.98</td>\n",
       "      <td>0.90</td>\n",
       "      <td>1.26</td>\n",
       "    </tr>\n",
       "    <tr>\n",
       "      <th>ExtraTreesRegressor</th>\n",
       "      <td>0.97</td>\n",
       "      <td>0.97</td>\n",
       "      <td>0.92</td>\n",
       "      <td>3.07</td>\n",
       "    </tr>\n",
       "    <tr>\n",
       "      <th>RandomForestRegressor</th>\n",
       "      <td>0.97</td>\n",
       "      <td>0.97</td>\n",
       "      <td>0.92</td>\n",
       "      <td>4.47</td>\n",
       "    </tr>\n",
       "    <tr>\n",
       "      <th>ARDRegression</th>\n",
       "      <td>0.97</td>\n",
       "      <td>0.97</td>\n",
       "      <td>0.92</td>\n",
       "      <td>0.07</td>\n",
       "    </tr>\n",
       "    <tr>\n",
       "      <th>RidgeCV</th>\n",
       "      <td>0.97</td>\n",
       "      <td>0.97</td>\n",
       "      <td>0.92</td>\n",
       "      <td>0.08</td>\n",
       "    </tr>\n",
       "    <tr>\n",
       "      <th>BayesianRidge</th>\n",
       "      <td>0.97</td>\n",
       "      <td>0.97</td>\n",
       "      <td>0.92</td>\n",
       "      <td>0.05</td>\n",
       "    </tr>\n",
       "    <tr>\n",
       "      <th>LassoLarsCV</th>\n",
       "      <td>0.97</td>\n",
       "      <td>0.97</td>\n",
       "      <td>0.92</td>\n",
       "      <td>0.08</td>\n",
       "    </tr>\n",
       "    <tr>\n",
       "      <th>LassoLarsIC</th>\n",
       "      <td>0.97</td>\n",
       "      <td>0.97</td>\n",
       "      <td>0.92</td>\n",
       "      <td>0.05</td>\n",
       "    </tr>\n",
       "    <tr>\n",
       "      <th>TransformedTargetRegressor</th>\n",
       "      <td>0.97</td>\n",
       "      <td>0.97</td>\n",
       "      <td>0.92</td>\n",
       "      <td>0.10</td>\n",
       "    </tr>\n",
       "    <tr>\n",
       "      <th>Lars</th>\n",
       "      <td>0.97</td>\n",
       "      <td>0.97</td>\n",
       "      <td>0.92</td>\n",
       "      <td>0.03</td>\n",
       "    </tr>\n",
       "    <tr>\n",
       "      <th>LarsCV</th>\n",
       "      <td>0.97</td>\n",
       "      <td>0.97</td>\n",
       "      <td>0.92</td>\n",
       "      <td>0.09</td>\n",
       "    </tr>\n",
       "    <tr>\n",
       "      <th>LinearRegression</th>\n",
       "      <td>0.97</td>\n",
       "      <td>0.97</td>\n",
       "      <td>0.92</td>\n",
       "      <td>0.05</td>\n",
       "    </tr>\n",
       "  </tbody>\n",
       "</table>\n",
       "</div>"
      ],
      "text/plain": [
       "                               Adjusted R-Squared  R-Squared  RMSE  Time Taken\n",
       "Model                                                                         \n",
       "MLPRegressor                                 0.98       0.98  0.87       24.98\n",
       "LGBMRegressor                                0.98       0.98  0.88        0.51\n",
       "HistGradientBoostingRegressor                0.98       0.98  0.89        0.95\n",
       "GradientBoostingRegressor                    0.98       0.98  0.90        1.26\n",
       "ExtraTreesRegressor                          0.97       0.97  0.92        3.07\n",
       "RandomForestRegressor                        0.97       0.97  0.92        4.47\n",
       "ARDRegression                                0.97       0.97  0.92        0.07\n",
       "RidgeCV                                      0.97       0.97  0.92        0.08\n",
       "BayesianRidge                                0.97       0.97  0.92        0.05\n",
       "LassoLarsCV                                  0.97       0.97  0.92        0.08\n",
       "LassoLarsIC                                  0.97       0.97  0.92        0.05\n",
       "TransformedTargetRegressor                   0.97       0.97  0.92        0.10\n",
       "Lars                                         0.97       0.97  0.92        0.03\n",
       "LarsCV                                       0.97       0.97  0.92        0.09\n",
       "LinearRegression                             0.97       0.97  0.92        0.05"
      ]
     },
     "execution_count": 50,
     "metadata": {},
     "output_type": "execute_result"
    }
   ],
   "source": [
    "# Top 5 regressors\n",
    "models.head(15)"
   ]
  },
  {
   "cell_type": "code",
   "execution_count": 51,
   "id": "462f47ce-0f98-491e-8197-1665f60ea469",
   "metadata": {},
   "outputs": [
    {
     "data": {
      "text/plain": [
       "Adjusted R-Squared    42\n",
       "R-Squared             42\n",
       "RMSE                  42\n",
       "Time Taken            42\n",
       "dtype: int64"
      ]
     },
     "execution_count": 51,
     "metadata": {},
     "output_type": "execute_result"
    }
   ],
   "source": [
    "models.count()"
   ]
  },
  {
   "cell_type": "code",
   "execution_count": 52,
   "id": "daea6506-cee2-4790-a238-48afb172e607",
   "metadata": {},
   "outputs": [],
   "source": [
    "import matplotlib.pyplot as plt\n",
    "import seaborn as sns"
   ]
  },
  {
   "cell_type": "code",
   "execution_count": 59,
   "id": "75353722-2638-4bc4-a511-f94cef46de6e",
   "metadata": {},
   "outputs": [
    {
     "data": {
      "image/png": "[encoded data removed]",
      "text/plain": [
       "<Figure size 640x480 with 1 Axes>"
      ]
     },
     "metadata": {},
     "output_type": "display_data"
    }
   ],
   "source": [
    "idx = [i for i in range(41)]\n",
    "plt.plot(idx, models[\"RMSE\"][:41]  , label = \"RMSE\" , marker = 'o' )\n",
    "\n",
    "\n",
    "plt.annotate(models.index[0] , \n",
    "             (1,models[\"RMSE\"][0]) , \n",
    "             xytext  =(2,2),\n",
    "             arrowprops = dict(\n",
    "                               arrowstyle = \"simple\",\n",
    "                 color = \"red\"\n",
    "                              ))\n",
    "\n",
    "plt.xlabel(\"Model Index\")\n",
    "plt.ylabel(\"Metrics\")\n",
    "plt.title(\"Comparison of Different Regressors\")\n",
    "plt.legend()\n",
    "plt.show()"
   ]
  },
  {
   "cell_type": "code",
   "execution_count": 60,
   "id": "0f1fb370-0696-4016-8c6f-faa0982253e6",
   "metadata": {},
   "outputs": [
    {
     "data": {
      "image/png": "[encoded data removed]",
      "text/plain": [
       "<Figure size 640x480 with 1 Axes>"
      ]
     },
     "metadata": {},
     "output_type": "display_data"
    }
   ],
   "source": [
    "idx = [i for i in range(42)]\n",
    "plt.plot(idx, models[\"Time Taken\"] , label = \"RMSE\" ,marker = \"o\" )\n",
    "plt.xlabel(\"Model Index\")\n",
    "plt.ylabel(\"Time Taken\")\n",
    "plt.title(\"Comparison of Different Regressors\")\n",
    "plt.legend()\n",
    "plt.show()"
   ]
  },
  {
   "cell_type": "code",
   "execution_count": 61,
   "id": "e570aae4-b4ff-4afe-bb6a-f26180a7ec50",
   "metadata": {},
   "outputs": [
    {
     "data": {
      "text/html": [
       "<div>\n",
       "<style scoped>\n",
       "    .dataframe tbody tr th:only-of-type {\n",
       "        vertical-align: middle;\n",
       "    }\n",
       "\n",
       "    .dataframe tbody tr th {\n",
       "        vertical-align: top;\n",
       "    }\n",
       "\n",
       "    .dataframe thead th {\n",
       "        text-align: right;\n",
       "    }\n",
       "</style>\n",
       "<table border=\"1\" class=\"dataframe\">\n",
       "  <thead>\n",
       "    <tr style=\"text-align: right;\">\n",
       "      <th></th>\n",
       "      <th>Adjusted R-Squared</th>\n",
       "      <th>R-Squared</th>\n",
       "      <th>RMSE</th>\n",
       "      <th>Time Taken</th>\n",
       "    </tr>\n",
       "    <tr>\n",
       "      <th>Model</th>\n",
       "      <th></th>\n",
       "      <th></th>\n",
       "      <th></th>\n",
       "      <th></th>\n",
       "    </tr>\n",
       "  </thead>\n",
       "  <tbody>\n",
       "    <tr>\n",
       "      <th>MLPRegressor</th>\n",
       "      <td>0.98</td>\n",
       "      <td>0.98</td>\n",
       "      <td>0.87</td>\n",
       "      <td>24.98</td>\n",
       "    </tr>\n",
       "    <tr>\n",
       "      <th>LGBMRegressor</th>\n",
       "      <td>0.98</td>\n",
       "      <td>0.98</td>\n",
       "      <td>0.88</td>\n",
       "      <td>0.51</td>\n",
       "    </tr>\n",
       "    <tr>\n",
       "      <th>HistGradientBoostingRegressor</th>\n",
       "      <td>0.98</td>\n",
       "      <td>0.98</td>\n",
       "      <td>0.89</td>\n",
       "      <td>0.95</td>\n",
       "    </tr>\n",
       "    <tr>\n",
       "      <th>GradientBoostingRegressor</th>\n",
       "      <td>0.98</td>\n",
       "      <td>0.98</td>\n",
       "      <td>0.90</td>\n",
       "      <td>1.26</td>\n",
       "    </tr>\n",
       "    <tr>\n",
       "      <th>ExtraTreesRegressor</th>\n",
       "      <td>0.97</td>\n",
       "      <td>0.97</td>\n",
       "      <td>0.92</td>\n",
       "      <td>3.07</td>\n",
       "    </tr>\n",
       "    <tr>\n",
       "      <th>RandomForestRegressor</th>\n",
       "      <td>0.97</td>\n",
       "      <td>0.97</td>\n",
       "      <td>0.92</td>\n",
       "      <td>4.47</td>\n",
       "    </tr>\n",
       "    <tr>\n",
       "      <th>ARDRegression</th>\n",
       "      <td>0.97</td>\n",
       "      <td>0.97</td>\n",
       "      <td>0.92</td>\n",
       "      <td>0.07</td>\n",
       "    </tr>\n",
       "    <tr>\n",
       "      <th>RidgeCV</th>\n",
       "      <td>0.97</td>\n",
       "      <td>0.97</td>\n",
       "      <td>0.92</td>\n",
       "      <td>0.08</td>\n",
       "    </tr>\n",
       "    <tr>\n",
       "      <th>BayesianRidge</th>\n",
       "      <td>0.97</td>\n",
       "      <td>0.97</td>\n",
       "      <td>0.92</td>\n",
       "      <td>0.05</td>\n",
       "    </tr>\n",
       "    <tr>\n",
       "      <th>LassoLarsCV</th>\n",
       "      <td>0.97</td>\n",
       "      <td>0.97</td>\n",
       "      <td>0.92</td>\n",
       "      <td>0.08</td>\n",
       "    </tr>\n",
       "    <tr>\n",
       "      <th>LassoLarsIC</th>\n",
       "      <td>0.97</td>\n",
       "      <td>0.97</td>\n",
       "      <td>0.92</td>\n",
       "      <td>0.05</td>\n",
       "    </tr>\n",
       "    <tr>\n",
       "      <th>TransformedTargetRegressor</th>\n",
       "      <td>0.97</td>\n",
       "      <td>0.97</td>\n",
       "      <td>0.92</td>\n",
       "      <td>0.10</td>\n",
       "    </tr>\n",
       "    <tr>\n",
       "      <th>Lars</th>\n",
       "      <td>0.97</td>\n",
       "      <td>0.97</td>\n",
       "      <td>0.92</td>\n",
       "      <td>0.03</td>\n",
       "    </tr>\n",
       "    <tr>\n",
       "      <th>LarsCV</th>\n",
       "      <td>0.97</td>\n",
       "      <td>0.97</td>\n",
       "      <td>0.92</td>\n",
       "      <td>0.09</td>\n",
       "    </tr>\n",
       "    <tr>\n",
       "      <th>LinearRegression</th>\n",
       "      <td>0.97</td>\n",
       "      <td>0.97</td>\n",
       "      <td>0.92</td>\n",
       "      <td>0.05</td>\n",
       "    </tr>\n",
       "  </tbody>\n",
       "</table>\n",
       "</div>"
      ],
      "text/plain": [
       "                               Adjusted R-Squared  R-Squared  RMSE  Time Taken\n",
       "Model                                                                         \n",
       "MLPRegressor                                 0.98       0.98  0.87       24.98\n",
       "LGBMRegressor                                0.98       0.98  0.88        0.51\n",
       "HistGradientBoostingRegressor                0.98       0.98  0.89        0.95\n",
       "GradientBoostingRegressor                    0.98       0.98  0.90        1.26\n",
       "ExtraTreesRegressor                          0.97       0.97  0.92        3.07\n",
       "RandomForestRegressor                        0.97       0.97  0.92        4.47\n",
       "ARDRegression                                0.97       0.97  0.92        0.07\n",
       "RidgeCV                                      0.97       0.97  0.92        0.08\n",
       "BayesianRidge                                0.97       0.97  0.92        0.05\n",
       "LassoLarsCV                                  0.97       0.97  0.92        0.08\n",
       "LassoLarsIC                                  0.97       0.97  0.92        0.05\n",
       "TransformedTargetRegressor                   0.97       0.97  0.92        0.10\n",
       "Lars                                         0.97       0.97  0.92        0.03\n",
       "LarsCV                                       0.97       0.97  0.92        0.09\n",
       "LinearRegression                             0.97       0.97  0.92        0.05"
      ]
     },
     "execution_count": 61,
     "metadata": {},
     "output_type": "execute_result"
    }
   ],
   "source": [
    "models[0:15]"
   ]
  }
 ],
 "metadata": {
  "kernelspec": {
   "display_name": "Python 3 (ipykernel)",
   "language": "python",
   "name": "python3"
  },
  "language_info": {
   "codemirror_mode": {
    "name": "ipython",
    "version": 3
   },
   "file_extension": ".py",
   "mimetype": "text/x-python",
   "name": "python",
   "nbconvert_exporter": "python",
   "pygments_lexer": "ipython3",
   "version": "3.9.19"
  }
 },
 "nbformat": 4,
 "nbformat_minor": 5
}
